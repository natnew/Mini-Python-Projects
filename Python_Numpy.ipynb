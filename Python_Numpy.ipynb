{
  "nbformat": 4,
  "nbformat_minor": 0,
  "metadata": {
    "colab": {
      "name": "Python Numpy.ipynb",
      "provenance": [],
      "authorship_tag": "ABX9TyMF3qpSeaFj9gWZWQusIDy3",
      "include_colab_link": true
    },
    "kernelspec": {
      "name": "python3",
      "display_name": "Python 3"
    },
    "language_info": {
      "name": "python"
    }
  },
  "cells": [
    {
      "cell_type": "markdown",
      "metadata": {
        "id": "view-in-github",
        "colab_type": "text"
      },
      "source": [
        "<a href=\"https://colab.research.google.com/github/natnew/Mini-Python-Projects/blob/main/Python_Numpy.ipynb\" target=\"_parent\"><img src=\"https://colab.research.google.com/assets/colab-badge.svg\" alt=\"Open In Colab\"/></a>"
      ]
    },
    {
      "cell_type": "markdown",
      "source": [
        "# Create an empty and a full NumPy array"
      ],
      "metadata": {
        "id": "vRbIpx_d4bGo"
      }
    },
    {
      "cell_type": "code",
      "execution_count": 1,
      "metadata": {
        "colab": {
          "base_uri": "https://localhost:8080/"
        },
        "id": "w4b1noMS3N_m",
        "outputId": "b9b4c167-326a-48f7-f2a9-76f7fe409008"
      },
      "outputs": [
        {
          "output_type": "stream",
          "name": "stdout",
          "text": [
            "Empty Array\n",
            "[[94253480287136 94253499637760              8 94253499637760]\n",
            " [             8 94253499637760              9              0]\n",
            " [94253499638272 94253499638272 94253499638272              0]]\n",
            "\n",
            " Full Array\n",
            "[[55 55 55]\n",
            " [55 55 55]\n",
            " [55 55 55]]\n"
          ]
        }
      ],
      "source": [
        "# python program to create\n",
        "# Empty and Full Numpy arrays\n",
        "  \n",
        "import numpy as np\n",
        "  \n",
        "  \n",
        "# Create an empty array\n",
        "empa = np.empty((3, 4), dtype=int)\n",
        "print(\"Empty Array\")\n",
        "print(empa)\n",
        "  \n",
        "# Create a full array\n",
        "flla = np.full([3, 3], 55, dtype=int)\n",
        "print(\"\\n Full Array\")\n",
        "print(flla)"
      ]
    },
    {
      "cell_type": "code",
      "source": [
        "# python program to create\n",
        "# Empty and Full Numpy arrays\n",
        "  \n",
        "import numpy as np\n",
        "  \n",
        "  \n",
        "# Create an empty array\n",
        "empa = np.empty([4, 2])\n",
        "print(\"Empty Array\")\n",
        "print(empa)\n",
        "  \n",
        "# Create a full array\n",
        "flla = np.full([4, 3], 95)\n",
        "print(\"\\n Full Array\")\n",
        "print(flla)"
      ],
      "metadata": {
        "colab": {
          "base_uri": "https://localhost:8080/"
        },
        "id": "59pRfT6Q48ya",
        "outputId": "0bd5d898-6b29-4ae4-fe7b-8d446120f7ab"
      },
      "execution_count": 2,
      "outputs": [
        {
          "output_type": "stream",
          "name": "stdout",
          "text": [
            "Empty Array\n",
            "[[4.65674070e-310 3.60739284e-313]\n",
            " [2.05833592e-312 4.65674070e-310]\n",
            " [0.00000000e+000 0.00000000e+000]\n",
            " [9.88131292e-324 0.00000000e+000]]\n",
            "\n",
            " Full Array\n",
            "[[95 95 95]\n",
            " [95 95 95]\n",
            " [95 95 95]\n",
            " [95 95 95]]\n"
          ]
        }
      ]
    },
    {
      "cell_type": "code",
      "source": [
        "# python program to create \n",
        "# Empty and Full Numpy arrays\n",
        "  \n",
        "import numpy as np\n",
        "  \n",
        "# Create an empty array\n",
        "empa =  np.empty([3,3]) \n",
        "print(\"Empty Array\")\n",
        "print(empa)\n",
        "  \n",
        "# Create a full array\n",
        "flla = np.full([5,3], 9.9)\n",
        "print(\"\\n Full Array\")\n",
        "print(flla)"
      ],
      "metadata": {
        "colab": {
          "base_uri": "https://localhost:8080/"
        },
        "id": "YZDhd6zw5Cpd",
        "outputId": "ae4a3e1c-ea74-4d89-b797-e9c132b9f07e"
      },
      "execution_count": 3,
      "outputs": [
        {
          "output_type": "stream",
          "name": "stdout",
          "text": [
            "Empty Array\n",
            "[[2.7e-322 2.7e-322 2.7e-322]\n",
            " [2.7e-322 2.7e-322 2.7e-322]\n",
            " [2.7e-322 2.7e-322 2.7e-322]]\n",
            "\n",
            " Full Array\n",
            "[[9.9 9.9 9.9]\n",
            " [9.9 9.9 9.9]\n",
            " [9.9 9.9 9.9]\n",
            " [9.9 9.9 9.9]\n",
            " [9.9 9.9 9.9]]\n"
          ]
        }
      ]
    },
    {
      "cell_type": "markdown",
      "source": [
        "# Get the maximum value from given matrix"
      ],
      "metadata": {
        "id": "RcdrqpXq5Tfh"
      }
    },
    {
      "cell_type": "code",
      "source": [
        "# import the important module in python\n",
        "import numpy as np\n",
        "          \n",
        "# make matrix with numpy\n",
        "gfg = np.matrix('[64, 1; 12, 3]')\n",
        "          \n",
        "# applying matrix.max() method\n",
        "geeks = gfg.max()\n",
        "    \n",
        "print(geeks)"
      ],
      "metadata": {
        "colab": {
          "base_uri": "https://localhost:8080/"
        },
        "id": "-81tcjIC5UN3",
        "outputId": "14217831-11cf-43ef-8619-3dbc2e0c90d2"
      },
      "execution_count": 4,
      "outputs": [
        {
          "output_type": "stream",
          "name": "stdout",
          "text": [
            "64\n"
          ]
        }
      ]
    },
    {
      "cell_type": "code",
      "source": [
        "# import the important module in python\n",
        "import numpy as np\n",
        "          \n",
        "# make a matrix with numpy\n",
        "gfg = np.matrix('[1, 2, 3; 4, 5, 6; 7, 8, 9]')\n",
        "          \n",
        "# applying matrix.max() method\n",
        "geeks = gfg.max()\n",
        "    \n",
        "print(geeks)"
      ],
      "metadata": {
        "colab": {
          "base_uri": "https://localhost:8080/"
        },
        "id": "NLiVLdCu5y2Z",
        "outputId": "b0ac690d-5c18-4393-eeaf-fa756f6e2852"
      },
      "execution_count": 5,
      "outputs": [
        {
          "output_type": "stream",
          "name": "stdout",
          "text": [
            "9\n"
          ]
        }
      ]
    },
    {
      "cell_type": "markdown",
      "source": [
        "# Replace NumPy array elements that doesn’t satisfy the given condition"
      ],
      "metadata": {
        "id": "Gun-twaY55YM"
      }
    },
    {
      "cell_type": "code",
      "source": [
        "# Importing Numpy module\n",
        "import numpy as np\n",
        "  \n",
        "# Creating a 1-D Numpy array\n",
        "n_arr = np.array([75.42436315, 42.48558583, 60.32924763])\n",
        "print(\"Given array:\")\n",
        "print(n_arr)\n",
        "  \n",
        "print(\"\\nReplace all elements of array which are greater than 50. to 15.50\")\n",
        "n_arr[n_arr > 50.] = 15.50\n",
        "  \n",
        "print(\"New array :\\n\")\n",
        "print(n_arr)"
      ],
      "metadata": {
        "colab": {
          "base_uri": "https://localhost:8080/"
        },
        "id": "Y1f0lzoQ56QJ",
        "outputId": "60e9b7c8-2a06-4ee6-e704-4ea99b369948"
      },
      "execution_count": 6,
      "outputs": [
        {
          "output_type": "stream",
          "name": "stdout",
          "text": [
            "Given array:\n",
            "[75.42436315 42.48558583 60.32924763]\n",
            "\n",
            "Replace all elements of array which are greater than 50. to 15.50\n",
            "New array :\n",
            "\n",
            "[15.5        42.48558583 15.5       ]\n"
          ]
        }
      ]
    }
  ]
}