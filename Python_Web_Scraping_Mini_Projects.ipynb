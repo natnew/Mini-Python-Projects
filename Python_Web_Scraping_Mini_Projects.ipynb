{
  "nbformat": 4,
  "nbformat_minor": 0,
  "metadata": {
    "colab": {
      "name": "Python Web Scraping Mini Projects.ipynb",
      "provenance": [],
      "authorship_tag": "ABX9TyPRHHrfh5hD38UxF63OUOjB",
      "include_colab_link": true
    },
    "kernelspec": {
      "name": "python3",
      "display_name": "Python 3"
    },
    "language_info": {
      "name": "python"
    }
  },
  "cells": [
    {
      "cell_type": "markdown",
      "metadata": {
        "id": "view-in-github",
        "colab_type": "text"
      },
      "source": [
        "<a href=\"https://colab.research.google.com/github/natnew/Mini-Python-Projects/blob/main/Python_Web_Scraping_Mini_Projects.ipynb\" target=\"_parent\"><img src=\"https://colab.research.google.com/assets/colab-badge.svg\" alt=\"Open In Colab\"/></a>"
      ]
    },
    {
      "cell_type": "markdown",
      "source": [
        "# Extract paragraph from a website and save it as a text file"
      ],
      "metadata": {
        "id": "-oz9t5KGFVz3"
      }
    },
    {
      "cell_type": "markdown",
      "source": [
        "bs4: Beautiful Soup(bs4) is a Python library used for getting data from HTML and XML files. It can be installed as follows:"
      ],
      "metadata": {
        "id": "A-On8i18EY5O"
      }
    },
    {
      "cell_type": "code",
      "execution_count": 4,
      "metadata": {
        "colab": {
          "base_uri": "https://localhost:8080/"
        },
        "id": "GbyLH-ulD2Rd",
        "outputId": "82c96184-70a8-4686-f830-6fe3dd871a13"
      },
      "outputs": [
        {
          "output_type": "stream",
          "name": "stdout",
          "text": [
            "Requirement already satisfied: bs4 in /usr/local/lib/python3.7/dist-packages (0.0.1)\n",
            "Requirement already satisfied: beautifulsoup4 in /usr/local/lib/python3.7/dist-packages (from bs4) (4.6.3)\n"
          ]
        }
      ],
      "source": [
        "pip install bs4"
      ]
    },
    {
      "cell_type": "markdown",
      "source": [
        "urllib: urllib is a package that collects several modules for working with URLs. It can also be installed the same way, it is most of the in-built in the environment itself."
      ],
      "metadata": {
        "id": "JivLbIy1EawD"
      }
    },
    {
      "cell_type": "code",
      "source": [
        "pip install urllib"
      ],
      "metadata": {
        "colab": {
          "base_uri": "https://localhost:8080/"
        },
        "id": "ZOPSVuKrEUOq",
        "outputId": "1eb52057-e225-47da-acc7-6abe1ed52ad8"
      },
      "execution_count": 5,
      "outputs": [
        {
          "output_type": "stream",
          "name": "stdout",
          "text": [
            "\u001b[31mERROR: Could not find a version that satisfies the requirement urllib (from versions: none)\u001b[0m\n",
            "\u001b[31mERROR: No matching distribution found for urllib\u001b[0m\n"
          ]
        }
      ]
    },
    {
      "cell_type": "code",
      "source": [
        "\n",
        "import urllib.request\n",
        "from bs4 import BeautifulSoup\n",
        "  \n",
        "# here we have to pass url and path\n",
        "# (where you want to save ur text file)\n",
        "urllib.request.urlretrieve(\"https://en.wikipedia.org/wiki/Python_(programming_language)\",\n",
        "                           \"text_file.txt\")\n",
        "  \n",
        "file = open(\"text_file.txt\", \"r\")\n",
        "contents = file.read()\n",
        "soup = BeautifulSoup(contents, 'html.parser')\n",
        "  \n",
        "f = open(\"text_file.txt\", \"w\")\n",
        "  \n",
        "# traverse paragraphs from soup\n",
        "for data in soup.find_all(\"p\"):\n",
        "    sum = data.get_text()\n",
        "    f.writelines(sum)\n",
        "  \n",
        "f.close()"
      ],
      "metadata": {
        "id": "ieKi8IpKEjBu"
      },
      "execution_count": 6,
      "outputs": []
    },
    {
      "cell_type": "code",
      "source": [
        "f = open('text_file.txt', 'r')"
      ],
      "metadata": {
        "id": "zbne9_qfGRnt"
      },
      "execution_count": 7,
      "outputs": []
    },
    {
      "cell_type": "code",
      "source": [
        "file_contents = f.read()"
      ],
      "metadata": {
        "id": "Ud8o6IIJFhiA"
      },
      "execution_count": 8,
      "outputs": []
    },
    {
      "cell_type": "code",
      "source": [
        "print (file_contents)"
      ],
      "metadata": {
        "colab": {
          "base_uri": "https://localhost:8080/"
        },
        "id": "L-r-VKcxGLia",
        "outputId": "88a3e524-924d-4910-b369-30059493de18"
      },
      "execution_count": 9,
      "outputs": [
        {
          "output_type": "stream",
          "name": "stdout",
          "text": [
            "\n",
            "Python is an interpreted high-level general-purpose programming language. Its design philosophy emphasizes code readability with its use of significant indentation. Its language constructs as well as its object-oriented approach aim to help programmers write clear, logical code for small and large-scale projects.[30]\n",
            "Python is dynamically-typed and garbage-collected. It supports multiple programming paradigms, including structured (particularly, procedural), object-oriented and functional programming. It is often described as a \"batteries included\" language due to its comprehensive standard library.[31][32]\n",
            "Guido van Rossum began working on Python in the late 1980s, as a successor to the ABC programming language, and first released it in 1991 as Python 0.9.0.[33] Python 2.0 was released in 2000 and introduced new features, such as list comprehensions and a cycle-detecting garbage collection system (in addition to reference counting). Python 3.0 was released in 2008 and was a major revision of the language that is not completely backward-compatible. Python 2 was discontinued with version 2.7.18 in 2020.[34]\n",
            "Python consistently ranks as one of the most popular programming languages.[35][36][37][38]\n",
            "Python was conceived in the late 1980s[39] by Guido van Rossum at Centrum Wiskunde & Informatica (CWI) in the Netherlands as a successor to  the ABC programming language, which was inspired by SETL,[40] capable of exception handling and interfacing with the Amoeba operating system.[10] Its implementation began in December 1989.[41] Van Rossum shouldered sole responsibility for the project, as the lead developer, until 12 July 2018, when he announced his \"permanent vacation\" from his responsibilities as Python's \"benevolent dictator for life\", a title the Python community bestowed upon him to reflect his long-term commitment as the project's chief decision-maker.[42] In January 2019, active Python core developers elected a five-member \"Steering Council\" to lead the project.[43][44]\n",
            "Python 2.0 was released on 16 October 2000, with many major new features, including a cycle-detecting garbage collector (in addition to reference counting) for memory management and support for Unicode.[45]\n",
            "Python 3.0 was released on 3 December 2008. It was a major revision of the language that is not completely backward-compatible.[46] Many of its major features were backported to Python 2.6.x[47] and 2.7.x version series.  Releases of Python 3 include the 2to3 utility, which automates the translation of Python 2 code to Python 3.[48]\n",
            "Python 2.7's end-of-life date was initially set at 2015 then postponed to 2020 out of concern that a large body of existing code could not easily be forward-ported to Python 3.[49][50]  No more security patches or other improvements will be released for it.[51][52] With Python 2's end-of-life, only  Python 3.6.x[53] and later are supported.\n",
            "Python 3.9.2 and 3.8.8 were expedited[54] as all versions of Python (including 2.7[55]) had security issues, leading to possible remote code execution[56] and web cache poisoning.[57]\n",
            "Python is a multi-paradigm programming language. Object-oriented programming and structured programming are fully supported, and many of its features support functional programming and aspect-oriented programming (including by metaprogramming[58] and metaobjects (magic methods)).[59] Many other paradigms are supported via extensions, including design by contract[60][61] and logic programming.[62]\n",
            "Python uses dynamic typing and a combination of reference counting and a cycle-detecting garbage collector for memory management.[63] It also features dynamic name resolution (late binding), which binds method and variable names during program execution.\n",
            "Python's design offers some support for functional programming in the Lisp tradition. It has filter,mapandreduce functions; list comprehensions, dictionaries, sets, and generator expressions.[64] The standard library has two modules (itertools and functools) that implement functional tools borrowed from Haskell and Standard ML.[65]\n",
            "The language's core philosophy is summarized in the document The Zen of Python (PEP 20), which includes aphorisms such as:[66]\n",
            "Rather than having all of its functionality built into its core, Python was designed to be highly extensible (with modules). This compact modularity has made it particularly popular as a means of adding programmable interfaces to existing applications. Van Rossum's vision of a small core language with a large standard library and easily extensible interpreter stemmed from his frustrations with ABC, which espoused the opposite approach.[39]\n",
            "Python strives for a simpler, less-cluttered syntax and grammar while giving developers a choice in their coding methodology. In contrast to Perl's \"there is more than one way to do it\" motto, Python embraces a \"there should be one— and preferably only one —obvious way to do it\"  design philosophy.[66] Alex Martelli, a Fellow at the Python Software Foundation and Python book author, writes that \"To describe something as 'clever' is not considered a compliment in the Python culture.\"[67]\n",
            "Python's developers strive to avoid premature optimization, and reject patches to non-critical parts of the CPython reference implementation that would offer marginal increases in speed at the cost of clarity.[68] When speed is important, a Python programmer can move time-critical functions to extension modules written in languages such as C, or use PyPy, a just-in-time compiler. Cython is also available, which translates a Python script into C and makes direct C-level API calls into the Python interpreter.\n",
            "Python's developers aim for the language to be fun to use. This is reflected in its name—a tribute to the British comedy group Monty Python[69]—and in occasionally playful approaches to tutorials and reference materials, such as examples that refer to spam and eggs (a reference to a Monty Python sketch) instead of the standard foo and bar.[70][71]\n",
            "A common neologism in the Python community is pythonic, which can have a wide range of meanings related to program style. To say that code is pythonic is to say that it uses Python idioms well, that it is natural or shows fluency in the language, that it conforms with Python's minimalist philosophy and emphasis on readability. In contrast, code that is difficult to understand or reads like a rough transcription from another programming language is called unpythonic.[72][73]\n",
            "Users and admirers of Python, especially those considered knowledgeable or experienced, are often referred to as Pythonistas.[74][75]\n",
            "Python is meant to be an easily readable language. Its formatting is visually uncluttered, and it often uses English keywords where other languages use punctuation. Unlike many other languages, it does not use curly brackets to delimit blocks, and semicolons after statements are allowed but are rarely, if ever, used. It has fewer syntactic exceptions and special cases than C or Pascal.[76]\n",
            "Python uses whitespace indentation, rather than curly brackets or keywords, to delimit blocks. An increase in indentation comes after certain statements; a decrease in indentation signifies the end of the current block.[77] Thus, the program's visual structure accurately represents the program's semantic structure.[78] This feature is sometimes termed the off-side rule, which some other languages share, but in most languages indentation does not have any semantic meaning. The recommended indent size is four spaces.[79]\n",
            "Python's statements include (among others):\n",
            "The assignment statement (=) operates by binding a name as a reference to a separate, dynamically-allocated object. Variables may subsequently be rebound at any time to any object. In Python, a variable name is a generic reference holder and does not have a fixed data type associated with it. However, at a given time, a variable will refer to some object, which will have a type. This is referred to as dynamic typing and is contrasted with statically-typed programming languages, where each variable may only contain values of a certain type.\n",
            "Python does not support tail call optimization or first-class continuations, and, according to Guido van Rossum, it never will.[81][82] However, better support for coroutine-like functionality is provided, by extending Python's generators.[83] Before 2.5, generators were lazy iterators; information was passed unidirectionally out of the generator. From Python 2.5, it is possible to pass information back into a generator function, and from Python 3.3, the information can be passed through multiple stack levels.[84]\n",
            "Some Python expressions are similar to those found in languages such as C and Java, while some are not:\n",
            "In Python, a distinction between expressions and statements is rigidly enforced, in contrast to languages such as Common Lisp, Scheme, or Ruby. This leads to duplicating some functionality. For example:\n",
            "Statements cannot be a part of an expression, so list and other comprehensions or lambda expressions, all being expressions, cannot contain statements. A particular case of this is that an assignment statement such as a = 1 cannot form part of the conditional expression of a conditional statement. This has the advantage of avoiding a classic C error of mistaking an assignment operator = for an equality operator == in conditions: if (c = 1) { ... } is syntactically valid (but probably unintended) C code but if c = 1: ... causes a syntax error in Python.\n",
            "Methods on objects are functions attached to the object's class; the syntax instance.method(argument) is, for normal methods and functions, syntactic sugar for Class.method(instance, argument). Python methods have an explicit self parameter to access instance data, in contrast to the implicit self (or this) in some other object-oriented programming languages (e.g., C++, Java, Objective-C, or Ruby).[95]\n",
            "Apart from this, Python also provides methods, often called dunder methods (due to their names beginning and ending with double-underscores), to allow user-defined classes to modify how they are handled by native operations such as length, comparison, in arithmetic operations, type conversion, and many more.[96]\n",
            "Python uses duck typing and has typed objects but untyped variable names. Type constraints are not checked at compile time; rather, operations on an object may fail, signifying that the given object is not of a suitable type. Despite being dynamically-typed, Python is strongly-typed, forbidding operations that are not well-defined (for example, adding a number to a string) rather than silently attempting to make sense of them.\n",
            "Python allows programmers to define their own types using classes, which are most often used for object-oriented programming. New instances of classes are constructed by calling the class (for example, SpamClass() or EggsClass()), and the classes are instances of the metaclass type (itself an instance of itself), allowing metaprogramming and reflection.\n",
            "Before version 3.0, Python had two kinds of classes: old-style and new-style.[97] The syntax of both styles is the same, the difference being whether the class object is inherited from, directly or indirectly (all new-style classes inherit from object and are instances of type). In versions of Python 2 from Python 2.2 onwards, both kinds of classes can be used. Old-style classes were eliminated in Python 3.0.\n",
            "The long-term plan is to support gradual typing[98] and from Python 3.5, the syntax of the language allows specifying static types but they are not checked in the default implementation, CPython. An experimental optional static type checker named mypy supports compile-time type checking.[99]\n",
            "1.33333\n",
            "Python has the usual symbols for arithmetic operators (+, -, *, /), the floor division operator // and the modulo operation % (where the remainder can be negative,  e.g. 4 % -3 == -2). It also has ** for exponentiation, e.g. 5**3 == 125 and 9**0.5 == 3.0, and a matrix‑multiplication operator @ .[103] These operators work like in traditional math; with the same precedence rules, the operators infix (+ and - can also be unary to represent positive and negative numbers respectively).\n",
            "The division between integers produces floating-point results. The behavior of division has changed significantly over time:[104]\n",
            "In Python terms, / is true division (or simply division), and // is floor division. / before version 3.0 is classic division.[104]\n",
            "Rounding towards negative infinity, though different from most languages, adds consistency. For instance, it means that the equation (a + b)//b == a//b + 1 is always true. It also means that the equation b*(a//b) + a%b == a is valid for both positive and negative values of a. However, maintaining the validity of this equation means that while the result of a%b is, as expected, in the half-open interval [0, b), where b is a positive integer, it has to lie in the interval (b, 0] when b is negative.[105]\n",
            "Python provides a round function for rounding a float to the nearest integer. For tie-breaking, Python 3 uses round to even: round(1.5) and round(2.5) both produce 2.[106] Versions before 3 used round-away-from-zero: round(0.5) is 1.0, round(-0.5) is −1.0.[107]\n",
            "Python allows boolean expressions with multiple equality relations in a manner that is consistent with general use in mathematics. For example, the expression a < b < c tests whether a is less than b and b is less than c.[108] C-derived languages interpret this expression differently: in C, the expression would first evaluate a < b, resulting in 0 or 1, and that result would then be compared with c.[109]\n",
            "Python uses arbitrary-precision arithmetic for all integer operations. The Decimal type/class in the decimal module provides decimal floating-point numbers to a pre-defined arbitrary precision and several rounding modes.[110] The Fraction class in the fractions module provides arbitrary precision for rational numbers.[111]\n",
            "Due to Python's extensive mathematics library, and the third-party library NumPy that further extends the native capabilities, it is frequently used as a scientific scripting language to aid in problems such as numerical data processing and manipulation.[112][113]\n",
            "Hello world program:\n",
            "Program to calculate the factorial of a positive integer:\n",
            "Python's large standard library, commonly cited as one of its greatest strengths,[114] provides tools suited to many tasks. For Internet-facing applications, many standard formats and protocols such as MIME and HTTP are supported. It includes modules for creating graphical user interfaces, connecting to relational databases, generating pseudorandom numbers, arithmetic with arbitrary-precision decimals,[115] manipulating regular expressions, and unit testing.\n",
            "Some parts of the standard library are covered by specifications (for example, the Web Server Gateway Interface (WSGI) implementation wsgiref follows PEP 333[116]), but most modules are not. They are specified by their code, internal documentation, and test suites. However, because most of the standard library is cross-platform Python code, only a few modules need altering or rewriting for variant implementations.\n",
            "As of September 2021,[update] the Python Package Index (PyPI), the official repository for third-party Python software, contains over 329,000[117] packages with a wide range of functionality, including:\n",
            "Most Python implementations (including CPython) include a read–eval–print loop (REPL), permitting them to function as a command line interpreter for which the user enters statements sequentially and receives results immediately.\n",
            "Python comes with a Integrated development environment (IDE) called IDLE, which is more beginner based.\n",
            "Other shells, including IDLE and IPython, add further abilities such as improved auto-completion, session state retention and syntax highlighting.\n",
            "As well as standard desktop integrated development environments, there are Web browser-based IDEs; SageMath (intended for developing science and math-related Python programs); PythonAnywhere, a browser-based IDE and hosting environment; and Canopy IDE, a commercial Python IDE emphasizing scientific computing.[118]\n",
            "CPython is the reference implementation of Python. It is written in C, meeting the C89 standard with several select C99 features (with later C versions out, it's considered outdated;[119][120]  CPython includes its own C extensions, but third-party extensions are not limited to older C versions, can e.g. be implemented with C11 or C++[121]).[122] It compiles Python programs into an intermediate bytecode[123] which is then executed by its virtual machine.[124] CPython is distributed with a large standard library written in a mixture of C and native Python. It is available for many platforms, including Windows (starting with Python 3.9, the Python installer deliberately fails to install on Windows 7 and 8;[125][126] Windows XP was supported until Python 3.5) and most modern Unix-like systems, including macOS (and Apple M1 Macs, since Python 3.9.1, with experimental installer) and unofficial support for e.g. VMS.[127] Platform portability was one of its earliest priorities,[128] during the Python 1 and Python 2 time-frame, even OS/2 and Solaris were supported;[129] support has since been dropped for a lot of platforms.\n",
            "Other just-in-time Python compilers have been developed, but are now unsupported:\n",
            "There are several compilers to high-level object languages, with either unrestricted Python, a restricted subset of Python, or a language similar to Python as the source language:\n",
            "A performance comparison of various Python implementations on a non-numerical (combinatorial) workload was presented at EuroSciPy '13.[152] Python's performance compared to other programming languages is also benchmarked by The Computer Language Benchmarks Game.[153]\n",
            "Python's development is conducted largely through the Python Enhancement Proposal (PEP) process, the primary mechanism for proposing major new features, collecting community input on issues and documenting Python design decisions.[154] Python coding style is covered in PEP 8.[155] Outstanding PEPs are reviewed and commented on by the Python community and the steering council.[154]\n",
            "Enhancement of the language corresponds with development of the CPython reference implementation. The mailing list python-dev is the primary forum for the language's development. Specific issues are discussed in the Roundup bug tracker hosted at bugs.python.org.[156] Development originally took place on a self-hosted source-code repository running Mercurial, until Python moved to GitHub in January 2017.[157]\n",
            "CPython's public releases come in three types, distinguished by which part of the version number is incremented:\n",
            "Many alpha, beta, and release-candidates are also released as previews and for testing before final releases. Although there is a rough schedule for each release, they are often delayed if the code is not ready. Python's development team monitors the state of the code by running the large unit test suite during development.[162]\n",
            "The major academic conference on Python is PyCon. There are also special Python mentoring programmes, such as Pyladies.\n",
            "Python 3.10 deprecated wstr (to be removed in Python 3.12; meaning Python extensions[163] need to be modified by then),[164] and added pattern matching to the language.[165]\n",
            "Tools that can generate documentation for Python API include pydoc (available as part of standard library), Sphinx, Pdoc and its forks, Doxygen and Graphviz, among others.[166]\n",
            "Python's name is derived from the British comedy group Monty Python, whom Python creator Guido van Rossum enjoyed while developing the language. Monty Python references appear frequently in Python code and culture;[167] for example, the metasyntactic variables often used in Python literature are spam and eggs instead of the traditional foo and bar.[167][168] The official Python documentation also contains various references to Monty Python routines.[169][170]\n",
            "The prefix Py- is used to show that something is related to Python. Examples of the use of this prefix in names of Python applications or libraries include Pygame, a binding of SDL to Python (commonly used to create games); PyQt and PyGTK, which bind Qt and GTK to Python respectively; and PyPy, a Python implementation originally written in Python.\n",
            "Since 2003, Python has consistently ranked in the top ten most popular programming languages in the TIOBE Programming Community Index where, as of October 2021[update], it is the most popular language (ahead of Java, and C).[171] It was selected Programming Language of the Year (for \"the highest rise in ratings in a year\") in 2007, 2010, 2018, and 2020 (the only language to do so four times[172]).[173]\n",
            "An empirical study found that scripting languages, such as Python, are more productive than conventional languages, such as C and Java, for programming problems involving string manipulation and search in a dictionary, and determined that memory consumption was often \"better than Java and not much worse than C or C++\".[174]\n",
            "Large organizations that use Python include Wikipedia, Google,[175] Yahoo!,[176] CERN,[177] NASA,[178] Facebook,[179] Amazon, Instagram,[180] Spotify[181] and some smaller entities like ILM[182] and ITA.[183] The social news networking site Reddit was written mostly in Python.[184]\n",
            "Python can serve as a scripting language for web applications, e.g., via mod_wsgi for the Apache web server.[185] With Web Server Gateway Interface, a standard API has evolved to facilitate these applications. Web frameworks like Django, Pylons, Pyramid, TurboGears, web2py, Tornado, Flask, Bottle and Zope support developers in the design and maintenance of complex applications. Pyjs and IronPython can be used to develop the client-side of Ajax-based applications. SQLAlchemy can be used as a data mapper to a relational database. Twisted is a framework to program communications between computers, and is used (for example) by Dropbox.\n",
            "Libraries such as NumPy, SciPy and Matplotlib allow the effective use of Python in scientific computing,[186][187] with specialized libraries such as Biopython and Astropy providing domain-specific functionality. SageMath is a computer algebra system with a notebook interface programmable in Python: its library covers many aspects of mathematics, including algebra, combinatorics, numerical mathematics, number theory, and calculus.[188] OpenCV has Python bindings with a rich set of features for computer vision and image processing.[189]\n",
            "Python is commonly used in artificial intelligence projects and machine learning projects with the help of libraries like TensorFlow, Keras, Pytorch and Scikit-learn.[190][191][192][193] As a scripting language with modular architecture, simple syntax and rich text processing tools, Python is often used for natural language processing.[194]\n",
            "Python can also be used to create games, with libraries such as Pygame, which can make 2D games.\n",
            "Python has been successfully embedded in many software products as a scripting language, including in finite element method software such as Abaqus, 3D parametric modeler like FreeCAD, 3D animation packages such as 3ds Max, Blender, Cinema 4D, Lightwave, Houdini, Maya, modo, MotionBuilder, Softimage, the visual effects compositor Nuke, 2D imaging programs like GIMP,[195] Inkscape, Scribus and Paint Shop Pro,[196] and musical notation programs like scorewriter and capella. GNU Debugger uses Python as a pretty printer to show complex structures such as C++ containers. Esri promotes Python as the best choice for writing scripts in ArcGIS.[197] It has also been used in several video games,[198][199] and has been adopted as first of the three available programming languages in Google App Engine, the other two being Java and Go.[200]\n",
            "Many operating systems include Python as a standard component. It ships with most Linux distributions,[201] AmigaOS 4 (using Python 2.7), FreeBSD (as a package), NetBSD, OpenBSD (as a package) and macOS and can be used from the command line (terminal). Many Linux distributions use installers written in Python: Ubuntu uses the Ubiquity installer, while Red Hat Linux and Fedora Linux use the Anaconda installer. Gentoo Linux uses Python in its package management system, Portage.\n",
            "Python is used extensively in the information security industry, including in exploit development.[202][203]\n",
            "Most of the Sugar software for the One Laptop per Child XO, now developed at Sugar Labs, is written in Python.[204] The Raspberry Pi single-board computer project has adopted Python as its main user-programming language.\n",
            "LibreOffice includes Python, and intends to replace Java with Python. Its Python Scripting Provider is a core feature[205] since Version 4.0 from 7 February 2013.\n",
            "Python's design and philosophy have influenced many other programming languages:\n",
            "Python's development practices have also been emulated by other languages. For example, the practice of requiring a document describing the rationale for, and issues surrounding, a change to the language (in Python, a PEP) is also used in Tcl,[215] Erlang,[216] and Swift.[217]\n",
            "\n",
            "\n"
          ]
        }
      ]
    },
    {
      "cell_type": "code",
      "source": [
        "f.close()"
      ],
      "metadata": {
        "id": "wL2uqzHVGgyK"
      },
      "execution_count": 10,
      "outputs": []
    },
    {
      "cell_type": "markdown",
      "source": [
        "# Read information from a Wikipedia page"
      ],
      "metadata": {
        "id": "962m4_tgIi6h"
      }
    },
    {
      "cell_type": "code",
      "source": [
        "!pip install wikipedia\n",
        " \n",
        " \n"
      ],
      "metadata": {
        "colab": {
          "base_uri": "https://localhost:8080/"
        },
        "id": "dp6f5BSXIpxu",
        "outputId": "58a4d4e1-82d4-4aa0-b80a-63dda11edbb4"
      },
      "execution_count": 11,
      "outputs": [
        {
          "output_type": "stream",
          "name": "stdout",
          "text": [
            "Collecting wikipedia\n",
            "  Downloading wikipedia-1.4.0.tar.gz (27 kB)\n",
            "Requirement already satisfied: beautifulsoup4 in /usr/local/lib/python3.7/dist-packages (from wikipedia) (4.6.3)\n",
            "Requirement already satisfied: requests<3.0.0,>=2.0.0 in /usr/local/lib/python3.7/dist-packages (from wikipedia) (2.23.0)\n",
            "Requirement already satisfied: chardet<4,>=3.0.2 in /usr/local/lib/python3.7/dist-packages (from requests<3.0.0,>=2.0.0->wikipedia) (3.0.4)\n",
            "Requirement already satisfied: certifi>=2017.4.17 in /usr/local/lib/python3.7/dist-packages (from requests<3.0.0,>=2.0.0->wikipedia) (2021.10.8)\n",
            "Requirement already satisfied: idna<3,>=2.5 in /usr/local/lib/python3.7/dist-packages (from requests<3.0.0,>=2.0.0->wikipedia) (2.10)\n",
            "Requirement already satisfied: urllib3!=1.25.0,!=1.25.1,<1.26,>=1.21.1 in /usr/local/lib/python3.7/dist-packages (from requests<3.0.0,>=2.0.0->wikipedia) (1.24.3)\n",
            "Building wheels for collected packages: wikipedia\n",
            "  Building wheel for wikipedia (setup.py) ... \u001b[?25l\u001b[?25hdone\n",
            "  Created wheel for wikipedia: filename=wikipedia-1.4.0-py3-none-any.whl size=11695 sha256=fcc21b3558bb55a61a9a6608a71fc635d74e99cf2842b95f5d7cdb3abb0b5547\n",
            "  Stored in directory: /root/.cache/pip/wheels/15/93/6d/5b2c68b8a64c7a7a04947b4ed6d89fb557dcc6bc27d1d7f3ba\n",
            "Successfully built wikipedia\n",
            "Installing collected packages: wikipedia\n",
            "Successfully installed wikipedia-1.4.0\n"
          ]
        }
      ]
    },
    {
      "cell_type": "code",
      "source": [
        "import wikipedia\n",
        " \n",
        " \n",
        "wikipedia.summary(\"Python (programming language)\")"
      ],
      "metadata": {
        "colab": {
          "base_uri": "https://localhost:8080/",
          "height": 159
        },
        "id": "KMPuFFMwInKa",
        "outputId": "8f02c423-7774-4dad-fa8a-d90589a16954"
      },
      "execution_count": 12,
      "outputs": [
        {
          "output_type": "execute_result",
          "data": {
            "application/vnd.google.colaboratory.intrinsic+json": {
              "type": "string"
            },
            "text/plain": [
              "'Python is an interpreted high-level general-purpose programming language. Its design philosophy emphasizes code readability with its use of significant indentation. Its language constructs as well as its object-oriented approach aim to help programmers write clear, logical code for small and large-scale projects.Python is dynamically-typed and garbage-collected. It supports multiple programming paradigms, including structured (particularly, procedural), object-oriented and functional programming. It is often described as a \"batteries included\" language due to its comprehensive standard library.Guido van Rossum began working on Python in the late 1980s, as a successor to the ABC programming language, and first released it in 1991 as Python 0.9.0. Python 2.0 was released in 2000 and introduced new features, such as list comprehensions and a cycle-detecting garbage collection system (in addition to reference counting). Python 3.0 was released in 2008 and was a major revision of the language that is not completely backward-compatible. Python 2 was discontinued with version 2.7.18 in 2020.Python consistently ranks as one of the most popular programming languages.'"
            ]
          },
          "metadata": {},
          "execution_count": 12
        }
      ]
    },
    {
      "cell_type": "code",
      "source": [
        "wikipedia.page(\"Python (programming language)\").content"
      ],
      "metadata": {
        "colab": {
          "base_uri": "https://localhost:8080/",
          "height": 159
        },
        "id": "2wY5ABUE4QZT",
        "outputId": "66f3d21f-9a91-4786-b9e7-d55507e73d1e"
      },
      "execution_count": 15,
      "outputs": [
        {
          "output_type": "execute_result",
          "data": {
            "application/vnd.google.colaboratory.intrinsic+json": {
              "type": "string"
            },
            "text/plain": [
              "'Python is an interpreted high-level general-purpose programming language. Its design philosophy emphasizes code readability with its use of significant indentation. Its language constructs as well as its object-oriented approach aim to help programmers write clear, logical code for small and large-scale projects.Python is dynamically-typed and garbage-collected. It supports multiple programming paradigms, including structured (particularly, procedural), object-oriented and functional programming. It is often described as a \"batteries included\" language due to its comprehensive standard library.Guido van Rossum began working on Python in the late 1980s, as a successor to the ABC programming language, and first released it in 1991 as Python 0.9.0. Python 2.0 was released in 2000 and introduced new features, such as list comprehensions and a cycle-detecting garbage collection system (in addition to reference counting). Python 3.0 was released in 2008 and was a major revision of the language that is not completely backward-compatible. Python 2 was discontinued with version 2.7.18 in 2020.Python consistently ranks as one of the most popular programming languages.\\n\\n\\n== History ==\\n\\nPython was conceived in the late 1980s by Guido van Rossum at Centrum Wiskunde & Informatica (CWI) in the Netherlands as a successor to  the ABC programming language, which was inspired by SETL, capable of exception handling and interfacing with the Amoeba operating system. Its implementation began in December 1989. Van Rossum shouldered sole responsibility for the project, as the lead developer, until 12 July 2018, when he announced his \"permanent vacation\" from his responsibilities as Python\\'s \"benevolent dictator for life\", a title the Python community bestowed upon him to reflect his long-term commitment as the project\\'s chief decision-maker. In January 2019, active Python core developers elected a five-member \"Steering Council\" to lead the project.Python 2.0 was released on 16 October 2000, with many major new features, including a cycle-detecting garbage collector (in addition to reference counting) for memory management and support for Unicode.Python 3.0 was released on 3 December 2008. It was a major revision of the language that is not completely backward-compatible. Many of its major features were backported to Python 2.6.x and 2.7.x version series.  Releases of Python 3 include the 2to3 utility, which automates the translation of Python 2 code to Python 3.Python 2.7\\'s end-of-life date was initially set at 2015 then postponed to 2020 out of concern that a large body of existing code could not easily be forward-ported to Python 3.  No more security patches or other improvements will be released for it. With Python 2\\'s end-of-life, only  Python 3.6.x and later are supported.\\nPython 3.9.2 and 3.8.8 were expedited as all versions of Python (including 2.7) had security issues, leading to possible remote code execution and web cache poisoning.\\n\\n\\n== Design philosophy and features ==\\nPython is a multi-paradigm programming language. Object-oriented programming and structured programming are fully supported, and many of its features support functional programming and aspect-oriented programming (including by metaprogramming and metaobjects (magic methods)). Many other paradigms are supported via extensions, including design by contract and logic programming.Python uses dynamic typing and a combination of reference counting and a cycle-detecting garbage collector for memory management. It also features dynamic name resolution (late binding), which binds method and variable names during program execution.\\nPython\\'s design offers some support for functional programming in the Lisp tradition. It has filter,mapandreduce functions; list comprehensions, dictionaries, sets, and generator expressions. The standard library has two modules (itertools and functools) that implement functional tools borrowed from Haskell and Standard ML.The language\\'s core philosophy is summarized in the document The Zen of Python (PEP 20), which includes aphorisms such as:\\nBeautiful is better than ugly.\\nExplicit is better than implicit.\\nSimple is better than complex.\\nComplex is better than complicated.\\nReadability counts.Rather than having all of its functionality built into its core, Python was designed to be highly extensible (with modules). This compact modularity has made it particularly popular as a means of adding programmable interfaces to existing applications. Van Rossum\\'s vision of a small core language with a large standard library and easily extensible interpreter stemmed from his frustrations with ABC, which espoused the opposite approach.Python strives for a simpler, less-cluttered syntax and grammar while giving developers a choice in their coding methodology. In contrast to Perl\\'s \"there is more than one way to do it\" motto, Python embraces a \"there should be one— and preferably only one —obvious way to do it\"  design philosophy. Alex Martelli, a Fellow at the Python Software Foundation and Python book author, writes that \"To describe something as \\'clever\\' is not considered a compliment in the Python culture.\"Python\\'s developers strive to avoid premature optimization, and reject patches to non-critical parts of the CPython reference implementation that would offer marginal increases in speed at the cost of clarity. When speed is important, a Python programmer can move time-critical functions to extension modules written in languages such as C, or use PyPy, a just-in-time compiler. Cython is also available, which translates a Python script into C and makes direct C-level API calls into the Python interpreter.\\nPython\\'s developers aim for the language to be fun to use. This is reflected in its name—a tribute to the British comedy group Monty Python—and in occasionally playful approaches to tutorials and reference materials, such as examples that refer to spam and eggs (a reference to a Monty Python sketch) instead of the standard foo and bar.A common neologism in the Python community is pythonic, which can have a wide range of meanings related to program style. To say that code is pythonic is to say that it uses Python idioms well, that it is natural or shows fluency in the language, that it conforms with Python\\'s minimalist philosophy and emphasis on readability. In contrast, code that is difficult to understand or reads like a rough transcription from another programming language is called unpythonic.Users and admirers of Python, especially those considered knowledgeable or experienced, are often referred to as Pythonistas.\\n\\n\\n== Syntax and semantics ==\\n\\nPython is meant to be an easily readable language. Its formatting is visually uncluttered, and it often uses English keywords where other languages use punctuation. Unlike many other languages, it does not use curly brackets to delimit blocks, and semicolons after statements are allowed but are rarely, if ever, used. It has fewer syntactic exceptions and special cases than C or Pascal.\\n\\n\\n=== Indentation ===\\n\\nPython uses whitespace indentation, rather than curly brackets or keywords, to delimit blocks. An increase in indentation comes after certain statements; a decrease in indentation signifies the end of the current block. Thus, the program\\'s visual structure accurately represents the program\\'s semantic structure. This feature is sometimes termed the off-side rule, which some other languages share, but in most languages indentation does not have any semantic meaning. The recommended indent size is four spaces.\\n\\n\\n=== Statements and control flow ===\\nPython\\'s statements include (among others):\\n\\nThe assignment statement, using a single equals sign =.\\nThe if statement, which conditionally executes a block of code, along with else and elif (a contraction of else-if).\\nThe for statement, which iterates over an iterable object, capturing each element to a local variable for use by the attached block.\\nThe while statement, which executes a block of code as long as its condition is true.\\nThe try statement, which allows exceptions raised in its attached code block to be caught and handled by except clauses; it also ensures that clean-up code in a finally block will always be run regardless of how the block exits.\\nThe raise statement, used to raise a specified exception or re-raise a caught exception.\\nThe class statement, which executes a block of code and attaches its local namespace to a class, for use in object-oriented programming.\\nThe def statement, which defines a function or method.\\nThe with statement, which encloses a code block within a context manager (for example, acquiring a lock before the block of code is run and releasing the lock afterwards, or opening a file and then closing it), allowing resource-acquisition-is-initialization (RAII)-like behavior and replaces a common try/finally idiom.\\nThe break statement, exits from a loop.\\nThe continue statement, skips this iteration and continues with the next item.\\nThe del statement, removes a variable, which means the reference from the name to the value is deleted and trying to use that variable will cause an error. A deleted variable can be reassigned.\\nThe pass statement, which serves as a NOP. It is syntactically needed to create an empty code block.\\nThe assert statement, used during debugging to check for conditions that should apply.\\nThe yield statement, which returns a value from a generator function and yield is also an operator. This form is used to implement coroutines.\\nThe return statement, used to return a value from a function.\\nThe import statement, which is used to import modules whose functions or variables can be used in the current program.The assignment statement (=) operates by binding a name as a reference to a separate, dynamically-allocated object. Variables may subsequently be rebound at any time to any object. In Python, a variable name is a generic reference holder and does not have a fixed data type associated with it. However, at a given time, a variable will refer to some object, which will have a type. This is referred to as dynamic typing and is contrasted with statically-typed programming languages, where each variable may only contain values of a certain type.\\nPython does not support tail call optimization or first-class continuations, and, according to Guido van Rossum, it never will. However, better support for coroutine-like functionality is provided, by extending Python\\'s generators. Before 2.5, generators were lazy iterators; information was passed unidirectionally out of the generator. From Python 2.5, it is possible to pass information back into a generator function, and from Python 3.3, the information can be passed through multiple stack levels.\\n\\n\\n=== Expressions ===\\nSome Python expressions are similar to those found in languages such as C and Java, while some are not:\\n\\nAddition, subtraction, and multiplication are the same, but the behavior of division differs. There are two types of divisions in Python. They are floor division (or integer division) // and floating-point/division. Python also uses the ** operator for exponentiation.\\nFrom Python 3.5, the new @ infix operator was introduced. It is intended to be used by libraries such as NumPy for matrix multiplication.\\nFrom Python 3.8, the syntax :=, called the \"walrus operator\", was introduced. It assigns values to variables as part of a larger expression.\\nIn Python, == compares by value, versus Java, which compares numerics by value and objects by reference. (Value comparisons in Java on objects can be performed with the equals() method.) Python\\'s is operator may be used to compare object identities (comparison by reference). In Python, comparisons may be chained, for example a <= b <= c.\\nPython uses the words and, or, not for its boolean operators rather than the symbolic &&, ||, ! used in Java and C.\\nPython has a type of expression termed a list comprehension as well as a more general expression termed a generator expression.\\nAnonymous functions are implemented using lambda expressions; however, these are limited in that the body can only be one expression.\\nConditional expressions in Python are written as x if c else y (different in order of operands from the c ? x : y operator common to many other languages).\\nPython makes a distinction between lists and tuples. Lists are written as [1, 2, 3], are mutable, and cannot be used as the keys of dictionaries (dictionary keys must be immutable in Python). Tuples are written as (1, 2, 3), are immutable and thus can be used as the keys of dictionaries, provided all elements of the tuple are immutable. The + operator can be used to concatenate two tuples, which does not directly modify their contents, but rather produces a new tuple containing the elements of both provided tuples. Thus, given the variable t initially equal to (1, 2, 3), executing t = t + (4, 5) first evaluates t + (4, 5), which yields (1, 2, 3, 4, 5), which is then assigned back to t, thereby effectively \"modifying the contents\" of t, while conforming to the immutable nature of tuple objects. Parentheses are optional for tuples in unambiguous contexts.\\nPython features sequence unpacking wherein multiple expressions, each evaluating to anything that can be assigned to (a variable, a writable property, etc.), are associated in an identical manner to that forming tuple literals and, as a whole, are put on the left-hand side of the equal sign in an assignment statement. The statement expects an iterable object on the right-hand side of the equal sign that produces the same number of values as the provided writable expressions when iterated through and will iterate through it, assigning each of the produced values to the corresponding expression on the left.\\nPython has a \"string format\" operator %. This functions analogously to printf format strings in C, e.g. \"spam=%s eggs=%d\" % (\"blah\", 2) evaluates to \"spam=blah eggs=2\". In Python 3 and 2.6+, this was supplemented by the format() method of the str class, e.g. \"spam={0} eggs={1}\".format(\"blah\", 2). Python 3.6 added \"f-strings\": blah = \"blah\"; eggs = 2; f\\'spam={blah} eggs={eggs}\\'.\\nStrings in Python can be concatenated, by \"adding\" them (same operator as for adding integers and floats). E.g. \"spam\" + \"eggs\" returns \"spameggs\". Even if the strings contain numbers, they are still added as strings rather than integers. E.g. \"2\" + \"2\" returns \"22\".\\nPython has various kinds of string literals:\\nStrings delimited by single or double quote marks. Unlike in Unix shells, Perl and Perl-influenced languages, single quote marks and double quote marks function identically. Both kinds of string use the backslash (\\\\) as an escape character. String interpolation became available in Python 3.6 as \"formatted string literals\".\\nTriple-quoted strings, which begin and end with a series of three single or double quote marks. They may span multiple lines and function like here documents in shells, Perl and Ruby.\\nRaw string varieties, denoted by prefixing the string literal with an r. Escape sequences are not interpreted; hence raw strings are useful where literal backslashes are common, such as regular expressions and Windows-style paths. Compare \"@-quoting\" in C#.\\nPython has array index and array slicing expressions on lists, denoted as a[key], a[start:stop] or a[start:stop:step]. Indexes are zero-based, and negative indexes are relative to the end. Slices take elements from the start index up to, but not including, the stop index. The third slice parameter, called step or stride, allows elements to be skipped and reversed. Slice indexes may be omitted, for example a[:] returns a copy of the entire list. Each element of a slice is a shallow copy.In Python, a distinction between expressions and statements is rigidly enforced, in contrast to languages such as Common Lisp, Scheme, or Ruby. This leads to duplicating some functionality. For example:\\n\\nList comprehensions vs. for-loops\\nConditional expressions vs. if blocks\\nThe eval() vs. exec() built-in functions (in Python 2, exec is a statement); the former is for expressions, the latter is for statements.Statements cannot be a part of an expression, so list and other comprehensions or lambda expressions, all being expressions, cannot contain statements. A particular case of this is that an assignment statement such as a = 1 cannot form part of the conditional expression of a conditional statement. This has the advantage of avoiding a classic C error of mistaking an assignment operator = for an equality operator == in conditions: if (c = 1) { ... } is syntactically valid (but probably unintended) C code but if c = 1: ... causes a syntax error in Python.\\n\\n\\n=== Methods ===\\nMethods on objects are functions attached to the object\\'s class; the syntax instance.method(argument) is, for normal methods and functions, syntactic sugar for Class.method(instance, argument). Python methods have an explicit self parameter to access instance data, in contrast to the implicit self (or this) in some other object-oriented programming languages (e.g., C++, Java, Objective-C, or Ruby).\\nApart from this, Python also provides methods, often called dunder methods (due to their names beginning and ending with double-underscores), to allow user-defined classes to modify how they are handled by native operations such as length, comparison, in arithmetic operations, type conversion, and many more.\\n\\n\\n=== Typing ===\\n\\nPython uses duck typing and has typed objects but untyped variable names. Type constraints are not checked at compile time; rather, operations on an object may fail, signifying that the given object is not of a suitable type. Despite being dynamically-typed, Python is strongly-typed, forbidding operations that are not well-defined (for example, adding a number to a string) rather than silently attempting to make sense of them.\\nPython allows programmers to define their own types using classes, which are most often used for object-oriented programming. New instances of classes are constructed by calling the class (for example, SpamClass() or EggsClass()), and the classes are instances of the metaclass type (itself an instance of itself), allowing metaprogramming and reflection.\\nBefore version 3.0, Python had two kinds of classes: old-style and new-style. The syntax of both styles is the same, the difference being whether the class object is inherited from, directly or indirectly (all new-style classes inherit from object and are instances of type). In versions of Python 2 from Python 2.2 onwards, both kinds of classes can be used. Old-style classes were eliminated in Python 3.0.\\nThe long-term plan is to support gradual typing and from Python 3.5, the syntax of the language allows specifying static types but they are not checked in the default implementation, CPython. An experimental optional static type checker named mypy supports compile-time type checking.\\n\\n\\n=== Arithmetic operations ===\\nPython has the usual symbols for arithmetic operators (+, -, *, /), the floor division operator // and the modulo operation % (where the remainder can be negative,  e.g. 4 % -3 == -2). It also has ** for exponentiation, e.g. 5**3 == 125 and 9**0.5 == 3.0, and a matrix‑multiplication operator @ . These operators work like in traditional math; with the same precedence rules, the operators infix (+ and - can also be unary to represent positive and negative numbers respectively).\\nThe division between integers produces floating-point results. The behavior of division has changed significantly over time:\\nCurrent Python (i.e. since 3.0) changed / to always be floating-point division, e.g. 5/2 == 2.5.\\nPython 2.2 changed integer division to round towards negative infinity, e.g. 7/3 == 2 and -7/3 == -3. The floor division // operator was introduced. So 7//3 == 2, -7//3 == -3, 7.5//3 == 2.0 and -7.5//3 == -3.0. Adding from __future__ import division causes a module to use Python 3.0 rules for division (see next).\\nPython 2.1 and earlier used C\\'s division behavior. The / operator is integer division if both operands are integers, and floating-point division otherwise. Integer division rounds towards 0, e.g. 7/3 == 2 and -7/3 == -2.In Python terms, / is true division (or simply division), and // is floor division. / before version 3.0 is classic division.Rounding towards negative infinity, though different from most languages, adds consistency. For instance, it means that the equation (a + b)//b == a//b + 1 is always true. It also means that the equation b*(a//b) + a%b == a is valid for both positive and negative values of a. However, maintaining the validity of this equation means that while the result of a%b is, as expected, in the half-open interval [0, b), where b is a positive integer, it has to lie in the interval (b, 0] when b is negative.Python provides a round function for rounding a float to the nearest integer. For tie-breaking, Python 3 uses round to even: round(1.5) and round(2.5) both produce 2. Versions before 3 used round-away-from-zero: round(0.5) is 1.0, round(-0.5) is −1.0.Python allows boolean expressions with multiple equality relations in a manner that is consistent with general use in mathematics. For example, the expression a < b < c tests whether a is less than b and b is less than c. C-derived languages interpret this expression differently: in C, the expression would first evaluate a < b, resulting in 0 or 1, and that result would then be compared with c.Python uses arbitrary-precision arithmetic for all integer operations. The Decimal type/class in the decimal module provides decimal floating-point numbers to a pre-defined arbitrary precision and several rounding modes. The Fraction class in the fractions module provides arbitrary precision for rational numbers.Due to Python\\'s extensive mathematics library, and the third-party library NumPy that further extends the native capabilities, it is frequently used as a scientific scripting language to aid in problems such as numerical data processing and manipulation.\\n\\n\\n== Programming examples ==\\nHello world program:\\n\\nProgram to calculate the factorial of a positive integer:\\n\\n\\n== Libraries ==\\nPython\\'s large standard library, commonly cited as one of its greatest strengths, provides tools suited to many tasks. For Internet-facing applications, many standard formats and protocols such as MIME and HTTP are supported. It includes modules for creating graphical user interfaces, connecting to relational databases, generating pseudorandom numbers, arithmetic with arbitrary-precision decimals, manipulating regular expressions, and unit testing.\\nSome parts of the standard library are covered by specifications (for example, the Web Server Gateway Interface (WSGI) implementation wsgiref follows PEP 333), but most modules are not. They are specified by their code, internal documentation, and test suites. However, because most of the standard library is cross-platform Python code, only a few modules need altering or rewriting for variant implementations.\\nAs of September 2021, the Python Package Index (PyPI), the official repository for third-party Python software, contains over 329,000 packages with a wide range of functionality, including:\\n\\n\\n== Development environments ==\\n\\nMost Python implementations (including CPython) include a read–eval–print loop (REPL), permitting them to function as a command line interpreter for which the user enters statements sequentially and receives results immediately.\\nPython comes with a Integrated development environment (IDE) called IDLE, which is more beginner based.\\nOther shells, including IDLE and IPython, add further abilities such as improved auto-completion, session state retention and syntax highlighting.\\nAs well as standard desktop integrated development environments, there are Web browser-based IDEs; SageMath (intended for developing science and math-related Python programs); PythonAnywhere, a browser-based IDE and hosting environment; and Canopy IDE, a commercial Python IDE emphasizing scientific computing.\\n\\n\\n== Implementations ==\\n\\n\\n=== Reference implementation ===\\nCPython is the reference implementation of Python. It is written in C, meeting the C89 standard with several select C99 features (with later C versions out, it\\'s considered outdated;  CPython includes its own C extensions, but third-party extensions are not limited to older C versions, can e.g. be implemented with C11 or C++). It compiles Python programs into an intermediate bytecode which is then executed by its virtual machine. CPython is distributed with a large standard library written in a mixture of C and native Python. It is available for many platforms, including Windows (starting with Python 3.9, the Python installer deliberately fails to install on Windows 7 and 8; Windows XP was supported until Python 3.5) and most modern Unix-like systems, including macOS (and Apple M1 Macs, since Python 3.9.1, with experimental installer) and unofficial support for e.g. VMS. Platform portability was one of its earliest priorities, during the Python 1 and Python 2 time-frame, even OS/2 and Solaris were supported; support has since been dropped for a lot of platforms.\\n\\n\\n=== Other implementations ===\\nPyPy is a fast, compliant interpreter of Python 2.7 and 3.8.  Its just-in-time compiler brings a significant speed improvement over CPython but some libraries written in C cannot be used with it.\\nStackless Python is a significant fork of CPython that implements microthreads; it does not use the call stack in the same way, thus allowing massively concurrent programs. PyPy also has a stackless version.\\nMicroPython and CircuitPython are Python 3 variants optimized for microcontrollers, including Lego Mindstorms EV3.\\nPyston is a variant of the Python runtime that uses just-in-time compilation to speed up the execution of Python programs.\\nCinder is a performance-oriented fork of CPython 3.8 that contains a number of optimizations including bytecode inline caching, eager evaluation of coroutines, a method-at-a-time JIT and an experimental bytecode compiler.\\n\\n\\n=== Unsupported implementations ===\\nOther just-in-time Python compilers have been developed, but are now unsupported:\\n\\nGoogle began a project named Unladen Swallow in 2009, with the aim of speeding up the Python interpreter fivefold by using the LLVM, and of improving its multithreading ability to scale to thousands of cores, while ordinary implementations suffer from the global interpreter lock.\\nPsyco is a discontinued just-in-time specializing compiler that integrates with CPython and transforms bytecode to machine code at runtime. The emitted code is specialized for certain data types and is faster than the standard Python code. Psyco does not support Python 2.7 or later.\\nPyS60 was a Python 2 interpreter for Series 60 mobile phones released by Nokia in 2005. It implemented many of the modules from the standard library and some additional modules for integrating with the Symbian operating system. The Nokia N900 also supports Python with GTK widget libraries, enabling programs to be written and run on the target device.\\n\\n\\n=== Cross-compilers to other languages ===\\nThere are several compilers to high-level object languages, with either unrestricted Python, a restricted subset of Python, or a language similar to Python as the source language:\\n\\nCython compiles (a superset of) Python 2.7 to C (while the resulting code is also usable with Python 3 and also e.g. C++).\\nNuitka compiles Python into C++.\\nPythran compiles a subset of Python 3 to C++.\\nPyrex (latest release in 2010) and Shed Skin (latest release in 2013) compile to C and C++ respectively.\\nGoogle\\'s Grumpy (latest release in 2017) transpiles Python 2 to Go.\\nIronPython  allows running Python 2.7 programs (and an alpha, released in 2021, is also available for \"Python 3.4, although features and behaviors from later versions may be included\") on the .NET Common Language Runtime.\\nJython compiles Python 2.7 to Java bytecode, allowing the use of the Java libraries from a Python program.\\nMyHDL is a Python-based hardware description language (HDL), that converts MyHDL code to Verilog or VHDL code.\\nNumba uses LLVM to compile a subset of Python to machine code.\\nBrython, Transcrypt and Pyjs (latest release in 2012) compile Python to JavaScript.\\nRPython can be compiled to C, and is used to build the PyPy interpreter of Python.\\n\\n\\n=== Performance ===\\nA performance comparison of various Python implementations on a non-numerical (combinatorial) workload was presented at EuroSciPy \\'13. Python\\'s performance compared to other programming languages is also benchmarked by The Computer Language Benchmarks Game.\\n\\n\\n== Development ==\\nPython\\'s development is conducted largely through the Python Enhancement Proposal (PEP) process, the primary mechanism for proposing major new features, collecting community input on issues and documenting Python design decisions. Python coding style is covered in PEP 8. Outstanding PEPs are reviewed and commented on by the Python community and the steering council.Enhancement of the language corresponds with development of the CPython reference implementation. The mailing list python-dev is the primary forum for the language\\'s development. Specific issues are discussed in the Roundup bug tracker hosted at bugs.python.org. Development originally took place on a self-hosted source-code repository running Mercurial, until Python moved to GitHub in January 2017.CPython\\'s public releases come in three types, distinguished by which part of the version number is incremented:\\n\\nBackward-incompatible versions, where code is expected to break and needs to be manually ported. The first part of the version number is incremented. These releases happen infrequently—version 3.0 was released 8 years after 2.0.\\nMajor or \"feature\" releases are largely compatible with the previous version but introduce new features. The second part of the version number is incremented. Starting with Python 3.9, these releases are expected to happen annually. Each major version is supported by bugfixes for several years after its release.\\nBugfix releases, which introduce no new features, occur about every 3 months and are made when a sufficient number of bugs have been fixed upstream since the last release. Security vulnerabilities are also patched in these releases. The third and final part of the version number is incremented.Many alpha, beta, and release-candidates are also released as previews and for testing before final releases. Although there is a rough schedule for each release, they are often delayed if the code is not ready. Python\\'s development team monitors the state of the code by running the large unit test suite during development.The major academic conference on Python is PyCon. There are also special Python mentoring programmes, such as Pyladies.\\nPython 3.10 deprecated wstr (to be removed in Python 3.12; meaning Python extensions need to be modified by then), and added pattern matching to the language.\\n\\n\\n== API documentation generators ==\\nTools that can generate documentation for Python API include pydoc (available as part of standard library), Sphinx, Pdoc and its forks, Doxygen and Graphviz, among others.\\n\\n\\n== Naming ==\\nPython\\'s name is derived from the British comedy group Monty Python, whom Python creator Guido van Rossum enjoyed while developing the language. Monty Python references appear frequently in Python code and culture; for example, the metasyntactic variables often used in Python literature are spam and eggs instead of the traditional foo and bar. The official Python documentation also contains various references to Monty Python routines.The prefix Py- is used to show that something is related to Python. Examples of the use of this prefix in names of Python applications or libraries include Pygame, a binding of SDL to Python (commonly used to create games); PyQt and PyGTK, which bind Qt and GTK to Python respectively; and PyPy, a Python implementation originally written in Python.\\n\\n\\n== Popularity ==\\nSince 2003, Python has consistently ranked in the top ten most popular programming languages in the TIOBE Programming Community Index where, as of October 2021, it is the most popular language (ahead of Java, and C). It was selected Programming Language of the Year (for \"the highest rise in ratings in a year\") in 2007, 2010, 2018, and 2020 (the only language to do so four times).An empirical study found that scripting languages, such as Python, are more productive than conventional languages, such as C and Java, for programming problems involving string manipulation and search in a dictionary, and determined that memory consumption was often \"better than Java and not much worse than C or C++\".Large organizations that use Python include Wikipedia, Google, Yahoo!, CERN, NASA, Facebook, Amazon, Instagram, Spotify and some smaller entities like ILM and ITA. The social news networking site Reddit was written mostly in Python.\\n\\n\\n== Uses ==\\n\\nPython can serve as a scripting language for web applications, e.g., via mod_wsgi for the Apache web server. With Web Server Gateway Interface, a standard API has evolved to facilitate these applications. Web frameworks like Django, Pylons, Pyramid, TurboGears, web2py, Tornado, Flask, Bottle and Zope support developers in the design and maintenance of complex applications. Pyjs and IronPython can be used to develop the client-side of Ajax-based applications. SQLAlchemy can be used as a data mapper to a relational database. Twisted is a framework to program communications between computers, and is used (for example) by Dropbox.\\nLibraries such as NumPy, SciPy and Matplotlib allow the effective use of Python in scientific computing, with specialized libraries such as Biopython and Astropy providing domain-specific functionality. SageMath is a computer algebra system with a notebook interface programmable in Python: its library covers many aspects of mathematics, including algebra, combinatorics, numerical mathematics, number theory, and calculus. OpenCV has Python bindings with a rich set of features for computer vision and image processing.Python is commonly used in artificial intelligence projects and machine learning projects with the help of libraries like TensorFlow, Keras, Pytorch and Scikit-learn. As a scripting language with modular architecture, simple syntax and rich text processing tools, Python is often used for natural language processing.Python can also be used to create games, with libraries such as Pygame, which can make 2D games.\\nPython has been successfully embedded in many software products as a scripting language, including in finite element method software such as Abaqus, 3D parametric modeler like FreeCAD, 3D animation packages such as 3ds Max, Blender, Cinema 4D, Lightwave, Houdini, Maya, modo, MotionBuilder, Softimage, the visual effects compositor Nuke, 2D imaging programs like GIMP, Inkscape, Scribus and Paint Shop Pro, and musical notation programs like scorewriter and capella. GNU Debugger uses Python as a pretty printer to show complex structures such as C++ containers. Esri promotes Python as the best choice for writing scripts in ArcGIS. It has also been used in several video games, and has been adopted as first of the three available programming languages in Google App Engine, the other two being Java and Go.Many operating systems include Python as a standard component. It ships with most Linux distributions, AmigaOS 4 (using Python 2.7), FreeBSD (as a package), NetBSD, OpenBSD (as a package) and macOS and can be used from the command line (terminal). Many Linux distributions use installers written in Python: Ubuntu uses the Ubiquity installer, while Red Hat Linux and Fedora Linux use the Anaconda installer. Gentoo Linux uses Python in its package management system, Portage.\\nPython is used extensively in the information security industry, including in exploit development.Most of the Sugar software for the One Laptop per Child XO, now developed at Sugar Labs, is written in Python. The Raspberry Pi single-board computer project has adopted Python as its main user-programming language.\\nLibreOffice includes Python, and intends to replace Java with Python. Its Python Scripting Provider is a core feature since Version 4.0 from 7 February 2013.\\n\\n\\n== Languages influenced by Python ==\\nPython\\'s design and philosophy have influenced many other programming languages:\\n\\nBoo uses indentation, a similar syntax, and a similar object model.\\nCobra uses indentation and a similar syntax, and its Acknowledgements document lists Python first among languages that influenced it.\\nCoffeeScript, a programming language that cross-compiles to JavaScript, has Python-inspired syntax.\\nECMAScript/JavaScript borrowed iterators and generators from Python.\\nGDScript, a scripting language very similar to Python, built-in to the Godot game engine.\\nGo is designed for the \"speed of working in a dynamic language like Python\" and shares the same syntax for slicing arrays.\\nGroovy was motivated by the desire to bring the Python design philosophy to Java.\\nJulia was designed to be \"as usable for general programming as Python\".\\nNim uses indentation and similar syntax.\\nRuby\\'s creator, Yukihiro Matsumoto, has said: \"I wanted a scripting language that was more powerful than Perl, and more object-oriented than Python. That\\'s why I decided to design my own language.\"\\nSwift, a programming language developed by Apple, has some Python-inspired syntax.Python\\'s development practices have also been emulated by other languages. For example, the practice of requiring a document describing the rationale for, and issues surrounding, a change to the language (in Python, a PEP) is also used in Tcl, Erlang, and Swift.\\n\\n\\n== See also ==\\n\\nPython syntax and semantics\\npip (package manager)\\n\\n\\n== References ==\\n\\n\\n=== Sources ===\\n\"Python for Artificial Intelligence\". Wiki.python.org. 19 July 2012. Archived from the original on 1 November 2012. Retrieved 3 December 2012.\\nPaine, Jocelyn, ed. (August 2005). \"AI in Python\". AI Expert Newsletter. Amzi!. Archived from the original on 26 March 2012. Retrieved 11 February 2012.\\n\"PyAIML 0.8.5 : Python Package Index\". Pypi.python.org. Retrieved 17 July 2013.\\nRussell, Stuart J. & Norvig, Peter (2009). Artificial Intelligence: A Modern Approach (3rd ed.). Upper Saddle River, NJ: Prentice Hall. ISBN 978-0-13-604259-4.\\n\\n\\n== Further reading ==\\nDowney, Allen B. (May 2012). Think Python: How to Think Like a Computer Scientist (Version 1.6.6 ed.). ISBN 978-0-521-72596-5.\\nHamilton, Naomi (5 August 2008). \"The A-Z of Programming Languages: Python\". Computerworld. Archived from the original on 29 December 2008. Retrieved 31 March 2010.\\nLutz, Mark (2013). Learning Python (5th ed.). O\\'Reilly Media. ISBN 978-0-596-15806-4.\\nPilgrim, Mark (2004). Dive into Python. Apress. ISBN 978-1-59059-356-1.\\nPilgrim, Mark (2009). Dive into Python 3. Apress. ISBN 978-1-4302-2415-0.\\nSummerfield, Mark (2009). Programming in Python 3 (2nd ed.). Addison-Wesley Professional. ISBN 978-0-321-68056-3.\\n\\n\\n== External links ==\\n\\nOfficial website'"
            ]
          },
          "metadata": {},
          "execution_count": 15
        }
      ]
    },
    {
      "cell_type": "code",
      "source": [
        "wikipedia.page(\"Python (programming language)\").images"
      ],
      "metadata": {
        "colab": {
          "base_uri": "https://localhost:8080/"
        },
        "id": "cpbnp8OH5IYr",
        "outputId": "308ba3a0-0717-4707-eec7-6f42ae0d1c1e"
      },
      "execution_count": 16,
      "outputs": [
        {
          "output_type": "execute_result",
          "data": {
            "text/plain": [
              "['https://upload.wikimedia.org/wikipedia/commons/3/31/Free_and_open-source_software_logo_%282009%29.svg',\n",
              " 'https://upload.wikimedia.org/wikipedia/commons/9/94/Guido_van_Rossum_OSCON_2006_cropped.png',\n",
              " 'https://upload.wikimedia.org/wikipedia/commons/6/6f/Octicons-terminal.svg',\n",
              " 'https://upload.wikimedia.org/wikipedia/commons/c/c3/Python-logo-notext.svg',\n",
              " 'https://upload.wikimedia.org/wikipedia/commons/1/10/Python_3._The_standard_type_hierarchy.png',\n",
              " 'https://upload.wikimedia.org/wikipedia/commons/b/bd/Python_Powered.png',\n",
              " 'https://upload.wikimedia.org/wikipedia/commons/d/df/Wikibooks-logo-en-noslogan.svg',\n",
              " 'https://upload.wikimedia.org/wikipedia/commons/f/fa/Wikibooks-logo.svg',\n",
              " 'https://upload.wikimedia.org/wikipedia/commons/f/ff/Wikidata-logo.svg',\n",
              " 'https://upload.wikimedia.org/wikipedia/commons/f/fa/Wikiquote-logo.svg',\n",
              " 'https://upload.wikimedia.org/wikipedia/commons/0/0b/Wikiversity_logo_2017.svg',\n",
              " 'https://upload.wikimedia.org/wikipedia/en/4/4a/Commons-logo.svg',\n",
              " 'https://upload.wikimedia.org/wikipedia/en/8/8a/OOjs_UI_icon_edit-ltr-progressive.svg',\n",
              " 'https://upload.wikimedia.org/wikipedia/en/9/96/Symbol_category_class.svg',\n",
              " 'https://upload.wikimedia.org/wikipedia/en/d/db/Symbol_list_class.svg',\n",
              " 'https://upload.wikimedia.org/wikipedia/en/e/e2/Symbol_portal_class.svg',\n",
              " 'https://upload.wikimedia.org/wikipedia/en/9/94/Symbol_support_vote.svg']"
            ]
          },
          "metadata": {},
          "execution_count": 16
        }
      ]
    },
    {
      "cell_type": "code",
      "source": [
        "\n",
        "wikipedia.page('\"Hello, World!\" program').url"
      ],
      "metadata": {
        "colab": {
          "base_uri": "https://localhost:8080/",
          "height": 35
        },
        "id": "t0xjLeEa6Fx6",
        "outputId": "307fe3e6-3bfe-4d23-da00-6d8fc4c2d253"
      },
      "execution_count": 17,
      "outputs": [
        {
          "output_type": "execute_result",
          "data": {
            "application/vnd.google.colaboratory.intrinsic+json": {
              "type": "string"
            },
            "text/plain": [
              "'https://en.wikipedia.org/wiki/%22Hello,_World!%22_program'"
            ]
          },
          "metadata": {},
          "execution_count": 17
        }
      ]
    }
  ]
}