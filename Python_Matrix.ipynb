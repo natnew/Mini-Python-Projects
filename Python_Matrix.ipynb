{
  "nbformat": 4,
  "nbformat_minor": 0,
  "metadata": {
    "colab": {
      "name": "Python Matrix.ipynb",
      "provenance": [],
      "authorship_tag": "ABX9TyOsaNCgWGkH5ChFx7ewZisy",
      "include_colab_link": true
    },
    "kernelspec": {
      "name": "python3",
      "display_name": "Python 3"
    },
    "language_info": {
      "name": "python"
    }
  },
  "cells": [
    {
      "cell_type": "markdown",
      "metadata": {
        "id": "view-in-github",
        "colab_type": "text"
      },
      "source": [
        "<a href=\"https://colab.research.google.com/github/natnew/Mini-Python-Projects/blob/main/Python_Matrix.ipynb\" target=\"_parent\"><img src=\"https://colab.research.google.com/assets/colab-badge.svg\" alt=\"Open In Colab\"/></a>"
      ]
    },
    {
      "cell_type": "markdown",
      "source": [
        "# Convert String Matrix Representation to Matrix"
      ],
      "metadata": {
        "id": "E0zOr027B8o9"
      }
    },
    {
      "cell_type": "code",
      "execution_count": 1,
      "metadata": {
        "colab": {
          "base_uri": "https://localhost:8080/"
        },
        "id": "uAk0mNT6BiFy",
        "outputId": "ae2fca35-81a1-4671-aef9-7789c7d33102"
      },
      "outputs": [
        {
          "output_type": "stream",
          "name": "stdout",
          "text": [
            "The original string is : [gfg,is],[best,for],[all,geeks]\n",
            "The type of result : <class 'list'>\n",
            "Converted Matrix : [['gfg', 'is'], ['best', 'for'], ['all', 'geeks']]\n"
          ]
        }
      ],
      "source": [
        "import re\n",
        "  \n",
        "# initializing string\n",
        "test_str = \"[gfg,is],[best,for],[all,geeks]\"\n",
        "  \n",
        "# printing original string\n",
        "print(\"The original string is : \" + str(test_str))\n",
        "  \n",
        "flat_1 = re.findall(r\"\\[(.+?)\\]\", test_str)\n",
        "res = [sub.split(\",\") for sub in flat_1]\n",
        "  \n",
        "# printing result\n",
        "print(\"The type of result : \" + str(type(res)))\n",
        "print(\"Converted Matrix : \" + str(res))"
      ]
    },
    {
      "cell_type": "code",
      "source": [
        "# Python3 code to demonstrate working of\n",
        "# Convert String Matrix Representation to Matrix\n",
        "# Using json.loads()\n",
        "import json\n",
        "  \n",
        "# initializing string\n",
        "test_str = '[[\"gfg\", \"is\"], [\"best\", \"for\"], [\"all\", \"geeks\"]]'\n",
        "  \n",
        "# printing original string\n",
        "print(\"The original string is : \" + str(test_str))\n",
        "  \n",
        "# inbuild function performing task of conversion\n",
        "# notice input\n",
        "res = json.loads(test_str)\n",
        "  \n",
        "# printing result\n",
        "print(\"The type of result : \" + str(type(res)))\n",
        "print(\"Converted Matrix : \" + str(res))"
      ],
      "metadata": {
        "colab": {
          "base_uri": "https://localhost:8080/"
        },
        "id": "NnXABDEpCLiH",
        "outputId": "3e381227-0ef7-4f48-dcf5-a1d7d3e87038"
      },
      "execution_count": 2,
      "outputs": [
        {
          "output_type": "stream",
          "name": "stdout",
          "text": [
            "The original string is : [[\"gfg\", \"is\"], [\"best\", \"for\"], [\"all\", \"geeks\"]]\n",
            "The type of result : <class 'list'>\n",
            "Converted Matrix : [['gfg', 'is'], ['best', 'for'], ['all', 'geeks']]\n"
          ]
        }
      ]
    },
    {
      "cell_type": "markdown",
      "source": [
        "# Count the frequency of matrix row length"
      ],
      "metadata": {
        "id": "TnRd1Fa_CSKa"
      }
    },
    {
      "cell_type": "code",
      "source": [
        "# Python3 code to demonstrate working of\n",
        "# Row lengths counts\n",
        "# Using dictionary + loop\n",
        "  \n",
        "# initializing list\n",
        "test_list = [[6, 3, 1], [8, 9], [2], \n",
        "             [10, 12, 7], [4, 11]]\n",
        "  \n",
        "# printing original list\n",
        "print(\"The original list is : \" + str(test_list))\n",
        "  \n",
        "res = dict()\n",
        "for sub in test_list:\n",
        "  \n",
        "    # initializing incase of new length\n",
        "    if len(sub) not in res:\n",
        "        res[len(sub)] = 1\n",
        "  \n",
        "    # increment in case of length present\n",
        "    else:\n",
        "        res[len(sub)] += 1\n",
        "  \n",
        "# printing result\n",
        "print(\"Row length frequencies : \" + str(res))"
      ],
      "metadata": {
        "colab": {
          "base_uri": "https://localhost:8080/"
        },
        "id": "7qjPZ7ePCTLU",
        "outputId": "c5c6bd91-e3f2-415e-b0cb-a743dc00183b"
      },
      "execution_count": 3,
      "outputs": [
        {
          "output_type": "stream",
          "name": "stdout",
          "text": [
            "The original list is : [[6, 3, 1], [8, 9], [2], [10, 12, 7], [4, 11]]\n",
            "Row length frequencies : {3: 2, 2: 2, 1: 1}\n"
          ]
        }
      ]
    },
    {
      "cell_type": "code",
      "source": [
        "# Python3 code to demonstrate working of\n",
        "# Row lengths counts\n",
        "# Using Counter() + map() + len()\n",
        "from collections import Counter\n",
        "  \n",
        "# initializing list\n",
        "test_list = [[6, 3, 1], [8, 9], [2],\n",
        "             [10, 12, 7], [4, 11]]\n",
        "  \n",
        "# printing original list\n",
        "print(\"The original list is : \" + str(test_list))\n",
        "  \n",
        "# Counter gets the frequencies of counts\n",
        "# map and len gets lengths of sublist\n",
        "res = dict(Counter(map(len, test_list)))\n",
        "  \n",
        "# printing result\n",
        "print(\"Row length frequencies : \" + str(res))"
      ],
      "metadata": {
        "colab": {
          "base_uri": "https://localhost:8080/"
        },
        "id": "BULvE9_yDPFO",
        "outputId": "7cae5904-e892-4fad-a8e3-62ec878c1b2b"
      },
      "execution_count": 4,
      "outputs": [
        {
          "output_type": "stream",
          "name": "stdout",
          "text": [
            "The original list is : [[6, 3, 1], [8, 9], [2], [10, 12, 7], [4, 11]]\n",
            "Row length frequencies : {3: 2, 2: 2, 1: 1}\n"
          ]
        }
      ]
    },
    {
      "cell_type": "markdown",
      "source": [
        "# Convert Integer Matrix to String Matrix"
      ],
      "metadata": {
        "id": "91ql_r0XDUSk"
      }
    },
    {
      "cell_type": "code",
      "source": [
        "# Python3 code to demonstrate working of \n",
        "# Convert Integer Matrix to String Matrix\n",
        "# Using str() + list comprehension\n",
        "  \n",
        "# initializing list\n",
        "test_list = [[4, 5, 7], [10, 8, 3], [19, 4, 6], [9, 3, 6]]\n",
        "  \n",
        "# printing original list\n",
        "print(\"The original list : \" + str(test_list))\n",
        "  \n",
        "# using str() to convert each element to string \n",
        "res = [[str(ele) for ele in sub] for sub in test_list]\n",
        "  \n",
        "# printing result \n",
        "print(\"The data type converted Matrix : \" + str(res))"
      ],
      "metadata": {
        "colab": {
          "base_uri": "https://localhost:8080/"
        },
        "id": "KzntPxKmDVKS",
        "outputId": "b2faa8e9-10b9-40ab-e86a-9534b205fc7a"
      },
      "execution_count": 5,
      "outputs": [
        {
          "output_type": "stream",
          "name": "stdout",
          "text": [
            "The original list : [[4, 5, 7], [10, 8, 3], [19, 4, 6], [9, 3, 6]]\n",
            "The data type converted Matrix : [['4', '5', '7'], ['10', '8', '3'], ['19', '4', '6'], ['9', '3', '6']]\n"
          ]
        }
      ]
    }
  ]
}