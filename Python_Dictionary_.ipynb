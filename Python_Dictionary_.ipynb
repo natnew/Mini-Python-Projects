{
  "nbformat": 4,
  "nbformat_minor": 0,
  "metadata": {
    "colab": {
      "name": "Python Dictionary .ipynb",
      "provenance": [],
      "authorship_tag": "ABX9TyOUwt3HYy64RocaH6uGsndf",
      "include_colab_link": true
    },
    "kernelspec": {
      "name": "python3",
      "display_name": "Python 3"
    },
    "language_info": {
      "name": "python"
    }
  },
  "cells": [
    {
      "cell_type": "markdown",
      "metadata": {
        "id": "view-in-github",
        "colab_type": "text"
      },
      "source": [
        "<a href=\"https://colab.research.google.com/github/natnew/Mini-Python-Projects/blob/main/Python_Dictionary_.ipynb\" target=\"_parent\"><img src=\"https://colab.research.google.com/assets/colab-badge.svg\" alt=\"Open In Colab\"/></a>"
      ]
    },
    {
      "cell_type": "markdown",
      "source": [
        "# Sort Python Dictionaries by Key or Value"
      ],
      "metadata": {
        "id": "0TgXp4Gn9ARV"
      }
    },
    {
      "cell_type": "code",
      "execution_count": 1,
      "metadata": {
        "colab": {
          "base_uri": "https://localhost:8080/"
        },
        "id": "rar1HDn88QHD",
        "outputId": "4b041c95-e00b-4f0e-8daa-b4bb2fd256e6"
      },
      "outputs": [
        {
          "output_type": "stream",
          "name": "stdout",
          "text": [
            "Task 1:-\n",
            "\n",
            "Keys are\n",
            "1 2 3 4 5 6 "
          ]
        }
      ],
      "source": [
        "# Function calling\n",
        "def dictionairy():\n",
        " # Declare hash function     \n",
        " key_value ={}   \n",
        " \n",
        "# Initializing value\n",
        " key_value[2] = 56      \n",
        " key_value[1] = 2\n",
        " key_value[5] = 12\n",
        " key_value[4] = 24\n",
        " key_value[6] = 18     \n",
        " key_value[3] = 323\n",
        " \n",
        " print (\"Task 1:-\\n\")\n",
        " print (\"Keys are\")\n",
        "  \n",
        " # iterkeys() returns an iterator over the\n",
        " # dictionary’s keys.\n",
        " for i in sorted (key_value.keys()) :\n",
        "     print(i, end = \" \")\n",
        " \n",
        "def main():\n",
        "    # function calling\n",
        "    dictionairy()            \n",
        "     \n",
        "# Main function calling\n",
        "if __name__==\"__main__\":     \n",
        "    main()"
      ]
    },
    {
      "cell_type": "markdown",
      "source": [
        "# Merging two Dictionaries"
      ],
      "metadata": {
        "id": "WTNL6hAY_edo"
      }
    },
    {
      "cell_type": "code",
      "source": [
        "# Python code to merge dict using update() method\n",
        "def Merge(dict1, dict2):\n",
        "    return(dict2.update(dict1))\n",
        "     \n",
        "# Driver code\n",
        "dict1 = {'a': 10, 'b': 8}\n",
        "dict2 = {'d': 6, 'c': 4}\n",
        " \n",
        "# This return None\n",
        "print(Merge(dict1, dict2))\n",
        " \n",
        "# changes made in dict2\n",
        "print(dict2)"
      ],
      "metadata": {
        "colab": {
          "base_uri": "https://localhost:8080/"
        },
        "id": "9DRcL80o_gNj",
        "outputId": "95c3f76a-beb0-483c-b938-a94706b6069c"
      },
      "execution_count": 2,
      "outputs": [
        {
          "output_type": "stream",
          "name": "stdout",
          "text": [
            "None\n",
            "{'d': 6, 'c': 4, 'a': 10, 'b': 8}\n"
          ]
        }
      ]
    },
    {
      "cell_type": "code",
      "source": [
        "# Python code to merge dict using update() method\n",
        "def Merge(dict1, dict2):\n",
        "    return(dict1.update(dict2))\n",
        "     \n",
        "# Driver code\n",
        "dict1 = {'a': 10, 'b': 8}\n",
        "dict2 = {'d': 6, 'c': 4}\n",
        " \n",
        "# This return None\n",
        "print(Merge(dict1, dict2))\n",
        " \n",
        "# changes made in dict2\n",
        "print(dict1)"
      ],
      "metadata": {
        "colab": {
          "base_uri": "https://localhost:8080/"
        },
        "id": "EpOtialW_tQc",
        "outputId": "57d86c07-ed1e-4f0c-b47a-127ee8e9e7b1"
      },
      "execution_count": 4,
      "outputs": [
        {
          "output_type": "stream",
          "name": "stdout",
          "text": [
            "None\n",
            "{'a': 10, 'b': 8, 'd': 6, 'c': 4}\n"
          ]
        }
      ]
    },
    {
      "cell_type": "code",
      "source": [
        "# Python code to merge dict using a single\n",
        "# expression\n",
        "def Merge(dict1, dict2):\n",
        "    res = {**dict1, **dict2}\n",
        "    return res\n",
        "     \n",
        "# Driver code\n",
        "dict1 = {'a': 10, 'b': 8}\n",
        "dict2 = {'d': 6, 'c': 4}\n",
        "dict3 = Merge(dict1, dict2)\n",
        "print(dict3)"
      ],
      "metadata": {
        "colab": {
          "base_uri": "https://localhost:8080/"
        },
        "id": "BqjCt9Sh_3ut",
        "outputId": "c11c27da-9104-42de-9ac3-eb519d0cf0c8"
      },
      "execution_count": 5,
      "outputs": [
        {
          "output_type": "stream",
          "name": "stdout",
          "text": [
            "{'a': 10, 'b': 8, 'd': 6, 'c': 4}\n"
          ]
        }
      ]
    },
    {
      "cell_type": "markdown",
      "source": [
        "# Sum list of dictionaries with same key"
      ],
      "metadata": {
        "id": "yYtVavIiAEhH"
      }
    },
    {
      "cell_type": "code",
      "source": [
        "# Python code to demonstrate\n",
        "# return the sum of values of dictionary\n",
        "# with same keys in list of dictionary\n",
        "  \n",
        "import collections, functools, operator\n",
        "  \n",
        "# Initialising list of dictionary\n",
        "ini_dict = [{'a':5, 'b':10, 'c':90},\n",
        "            {'a':45, 'b':78}, \n",
        "            {'a':90, 'c':10}]\n",
        "  \n",
        "  \n",
        "# printing initial dictionary\n",
        "print (\"initial dictionary\", str(ini_dict))\n",
        "  \n",
        "# sum the values with same keys\n",
        "result = dict(functools.reduce(operator.add,\n",
        "         map(collections.Counter, ini_dict)))\n",
        "  \n",
        "print(\"resultant dictionary : \", str(result))"
      ],
      "metadata": {
        "colab": {
          "base_uri": "https://localhost:8080/"
        },
        "id": "-jdMiKRXAFlo",
        "outputId": "8ca85503-6b23-4a77-bd8b-58fd5fba03d7"
      },
      "execution_count": 6,
      "outputs": [
        {
          "output_type": "stream",
          "name": "stdout",
          "text": [
            "initial dictionary [{'a': 5, 'b': 10, 'c': 90}, {'a': 45, 'b': 78}, {'a': 90, 'c': 10}]\n",
            "resultant dictionary :  {'a': 140, 'b': 88, 'c': 100}\n"
          ]
        }
      ]
    },
    {
      "cell_type": "markdown",
      "source": [
        "# Add a key:value pair to dictionary"
      ],
      "metadata": {
        "id": "fZHxBjmLAg68"
      }
    },
    {
      "cell_type": "code",
      "source": [
        "# Python program to add a key:value pair to dictionary\n",
        "  \n",
        "dict = {'key1':'geeks', 'key2':'for'} \n",
        "print(\"Current Dict is: \", dict) \n",
        "    \n",
        "# using the subscript notation \n",
        "# Dictionary_Name[New_Key_Name] = New_Key_Value \n",
        "  \n",
        "dict['key3'] = 'Geeks'\n",
        "dict['key4'] = 'is'\n",
        "dict['key5'] = 'portal'\n",
        "dict['key6'] = 'Computer'\n",
        "print(\"Updated Dict is: \", dict)"
      ],
      "metadata": {
        "colab": {
          "base_uri": "https://localhost:8080/"
        },
        "id": "xtQEn58BAh9q",
        "outputId": "e0732909-93b1-4368-da5d-8ed9657b29a8"
      },
      "execution_count": 7,
      "outputs": [
        {
          "output_type": "stream",
          "name": "stdout",
          "text": [
            "Current Dict is:  {'key1': 'geeks', 'key2': 'for'}\n",
            "Updated Dict is:  {'key1': 'geeks', 'key2': 'for', 'key3': 'Geeks', 'key4': 'is', 'key5': 'portal', 'key6': 'Computer'}\n"
          ]
        }
      ]
    },
    {
      "cell_type": "code",
      "source": [
        "dict = {'key1':'geeks', 'key2':'for'} \n",
        "print(\"Current Dict is: \", dict) \n",
        "  \n",
        "# adding dict1 (key3, key4 and key5) to dict \n",
        "dict1 = {'key3':'geeks', 'key4':'is', 'key5':'fabulous'} \n",
        "dict.update(dict1) \n",
        "  \n",
        "# by assigning \n",
        "dict.update(newkey1 ='portal') \n",
        "print(dict) "
      ],
      "metadata": {
        "colab": {
          "base_uri": "https://localhost:8080/"
        },
        "id": "sB0jIW68AyFF",
        "outputId": "57a24860-eb47-4a36-a478-7cb9849e44f2"
      },
      "execution_count": 8,
      "outputs": [
        {
          "output_type": "stream",
          "name": "stdout",
          "text": [
            "Current Dict is:  {'key1': 'geeks', 'key2': 'for'}\n",
            "{'key1': 'geeks', 'key2': 'for', 'key3': 'geeks', 'key4': 'is', 'key5': 'fabulous', 'newkey1': 'portal'}\n"
          ]
        }
      ]
    },
    {
      "cell_type": "markdown",
      "source": [
        "# Remove a key from dictionary"
      ],
      "metadata": {
        "id": "Gp3oZ_e3BGiv"
      }
    },
    {
      "cell_type": "code",
      "source": [
        "# Python code to demonstrate\n",
        "# removal of dict. pair \n",
        "# using pop()\n",
        "  \n",
        "# Initializing dictionary\n",
        "test_dict = {\"Arushi\" : 22, \"Anuradha\" : 21, \"Mani\" : 21, \"Haritha\" : 21}\n",
        "  \n",
        "# Printing dictionary before removal\n",
        "print (\"The dictionary before performing remove is : \" + str(test_dict))\n",
        "  \n",
        "# Using pop() to remove a dict. pair\n",
        "# removes Mani\n",
        "removed_value = test_dict.pop('Mani')\n",
        "  \n",
        "# Printing dictionary after removal\n",
        "print (\"The dictionary after remove is : \" + str(test_dict))\n",
        "print (\"The removed key's value is : \" + str(removed_value))\n",
        "  \n",
        "print ('\\r')\n",
        "  \n",
        "# Using pop() to remove a dict. pair\n",
        "# doesn't raise exception\n",
        "# assigns 'No Key found' to removed_value\n",
        "removed_value = test_dict.pop('Manjeet', 'No Key found')\n",
        "  \n",
        "# Printing dictionary after removal\n",
        "print (\"The dictionary after remove is : \" + str(test_dict))\n",
        "print (\"The removed key's value is : \" + str(removed_value))\n"
      ],
      "metadata": {
        "colab": {
          "base_uri": "https://localhost:8080/"
        },
        "id": "YPvDcDMTBI6h",
        "outputId": "c638651c-7d03-45f2-ca5c-c3f1e5cd6803"
      },
      "execution_count": 12,
      "outputs": [
        {
          "output_type": "stream",
          "name": "stdout",
          "text": [
            "The dictionary before performing remove is : {'Arushi': 22, 'Anuradha': 21, 'Mani': 21, 'Haritha': 21}\n",
            "The dictionary after remove is : {'Arushi': 22, 'Anuradha': 21, 'Haritha': 21}\n",
            "The removed key's value is : 21\n",
            "\r\n",
            "The dictionary after remove is : {'Arushi': 22, 'Anuradha': 21, 'Haritha': 21}\n",
            "The removed key's value is : No Key found\n"
          ]
        }
      ]
    }
  ]
}