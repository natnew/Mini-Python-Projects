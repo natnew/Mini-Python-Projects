{
  "nbformat": 4,
  "nbformat_minor": 0,
  "metadata": {
    "colab": {
      "name": "Python Strings.ipynb",
      "provenance": [],
      "authorship_tag": "ABX9TyNwejf7epZc7hzoSSgkeK5D",
      "include_colab_link": true
    },
    "kernelspec": {
      "name": "python3",
      "display_name": "Python 3"
    },
    "language_info": {
      "name": "python"
    }
  },
  "cells": [
    {
      "cell_type": "markdown",
      "metadata": {
        "id": "view-in-github",
        "colab_type": "text"
      },
      "source": [
        "<a href=\"https://colab.research.google.com/github/natnew/Mini-Python-Projects/blob/main/Python_Strings.ipynb\" target=\"_parent\"><img src=\"https://colab.research.google.com/assets/colab-badge.svg\" alt=\"Open In Colab\"/></a>"
      ]
    },
    {
      "cell_type": "markdown",
      "source": [
        "# Uppercase Half String"
      ],
      "metadata": {
        "id": "lMT8crA0FrV8"
      }
    },
    {
      "cell_type": "code",
      "execution_count": 1,
      "metadata": {
        "colab": {
          "base_uri": "https://localhost:8080/"
        },
        "id": "kBeBuod8FRed",
        "outputId": "83da005e-42a6-4343-c6db-0446ad825fc5"
      },
      "outputs": [
        {
          "output_type": "stream",
          "name": "stdout",
          "text": [
            "The original string is : geeksforgeeks\n",
            "The resultant string : geeksfORGEEKS\n"
          ]
        }
      ],
      "source": [
        "# Python3 code to demonstrate working of \n",
        "# Uppercase Half String\n",
        "# Using upper() + loop + len()\n",
        "  \n",
        "# initializing string\n",
        "test_str = 'geeksforgeeks'\n",
        "  \n",
        "# printing original string\n",
        "print(\"The original string is : \" + str(test_str))\n",
        "  \n",
        "# computing half index\n",
        "hlf_idx = len(test_str) // 2\n",
        "  \n",
        "res = ''\n",
        "for idx in range(len(test_str)):\n",
        "      \n",
        "    # uppercasing later half\n",
        "    if idx >= hlf_idx:\n",
        "      res += test_str[idx].upper()\n",
        "    else :\n",
        "      res += test_str[idx]\n",
        "          \n",
        "# printing result \n",
        "print(\"The resultant string : \" + str(res)) "
      ]
    },
    {
      "cell_type": "markdown",
      "source": [
        "# Words Frequency in String"
      ],
      "metadata": {
        "id": "3_K8cb2rGG_8"
      }
    },
    {
      "cell_type": "code",
      "source": [
        "# Python3 code to demonstrate working of \n",
        "# Words Frequency in String Shorthands\n",
        "# Using dictionary comprehension + count() + split()\n",
        "  \n",
        "# initializing string\n",
        "test_str = 'Gfg is best . Geeks are good and Geeks like Gfg'\n",
        "  \n",
        "# printing original string\n",
        "print(\"The original string is : \" + str(test_str))\n",
        "  \n",
        "# Words Frequency in String Shorthands\n",
        "# Using dictionary comprehension + count() + split()\n",
        "res = {key: test_str.count(key) for key in test_str.split()}\n",
        "  \n",
        "# printing result \n",
        "print(\"The words frequency : \" + str(res)) "
      ],
      "metadata": {
        "colab": {
          "base_uri": "https://localhost:8080/"
        },
        "id": "GHXGJ_BiGHsu",
        "outputId": "19cee09f-844c-453c-df85-f7b2cd17d872"
      },
      "execution_count": 2,
      "outputs": [
        {
          "output_type": "stream",
          "name": "stdout",
          "text": [
            "The original string is : Gfg is best . Geeks are good and Geeks like Gfg\n",
            "The words frequency : {'Gfg': 2, 'is': 1, 'best': 1, '.': 1, 'Geeks': 2, 'are': 1, 'good': 1, 'and': 1, 'like': 1}\n"
          ]
        }
      ]
    },
    {
      "cell_type": "markdown",
      "source": [
        "# String slicing in Python to rotate a string"
      ],
      "metadata": {
        "id": "9rAwnbEIGfbx"
      }
    },
    {
      "cell_type": "code",
      "source": [
        "# Function to rotate string left and right by d length \n",
        "  \n",
        "def rotate(input,d): \n",
        "  \n",
        "    # slice string in two parts for left and right \n",
        "    Lfirst = input[0 : d] \n",
        "    Lsecond = input[d :] \n",
        "    Rfirst = input[0 : len(input)-d] \n",
        "    Rsecond = input[len(input)-d : ] \n",
        "  \n",
        "    # now concatenate two parts together \n",
        "    print (\"Left Rotation : \", (Lsecond + Lfirst) )\n",
        "    print (\"Right Rotation : \", (Rsecond + Rfirst)) \n",
        "  \n",
        "# Driver program \n",
        "if __name__ == \"__main__\": \n",
        "    input = 'GeeksforGeeks'\n",
        "    d=2\n",
        "    rotate(input,d) "
      ],
      "metadata": {
        "colab": {
          "base_uri": "https://localhost:8080/"
        },
        "id": "TX27PS7aGgWx",
        "outputId": "768fa0fe-fdd3-469f-b0ed-b65b880be452"
      },
      "execution_count": 3,
      "outputs": [
        {
          "output_type": "stream",
          "name": "stdout",
          "text": [
            "Left Rotation :  eksforGeeksGe\n",
            "Right Rotation :  ksGeeksforGee\n"
          ]
        }
      ]
    },
    {
      "cell_type": "markdown",
      "source": [
        "# Replace Different characters in String at Once"
      ],
      "metadata": {
        "id": "9AilceedGowW"
      }
    },
    {
      "cell_type": "code",
      "source": [
        "# Python3 code to demonstrate working of\n",
        "# Replace Different characters in String at Once\n",
        "# using join() + generator expression\n",
        " \n",
        "# initializing string\n",
        "test_str = 'geeksforgeeks is best'\n",
        " \n",
        "# printing original String\n",
        "print(\"The original string is : \" + str(test_str))\n",
        " \n",
        "# initializing mapping dictionary\n",
        "map_dict = {'e':'1', 'b':'6', 'i':'4'}\n",
        " \n",
        "# generator expression to construct vals\n",
        "# join to get string\n",
        "res = ''.join(idx if idx not in map_dict else map_dict[idx] for idx in test_str)\n",
        " \n",
        "# printing result\n",
        "print(\"The converted string : \" + str(res))"
      ],
      "metadata": {
        "colab": {
          "base_uri": "https://localhost:8080/"
        },
        "id": "P6Og-WFnGpmr",
        "outputId": "61727866-9c37-4523-ad09-f76cf4737303"
      },
      "execution_count": 4,
      "outputs": [
        {
          "output_type": "stream",
          "name": "stdout",
          "text": [
            "The original string is : geeksforgeeks is best\n",
            "The converted string : g11ksforg11ks 4s 61st\n"
          ]
        }
      ]
    }
  ]
}