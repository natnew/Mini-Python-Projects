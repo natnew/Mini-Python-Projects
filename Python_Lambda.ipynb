{
  "nbformat": 4,
  "nbformat_minor": 0,
  "metadata": {
    "colab": {
      "name": "Python Lambda.ipynb",
      "provenance": [],
      "authorship_tag": "ABX9TyPQj6DBNtjAxFQlgljGKWKB",
      "include_colab_link": true
    },
    "kernelspec": {
      "name": "python3",
      "display_name": "Python 3"
    },
    "language_info": {
      "name": "python"
    }
  },
  "cells": [
    {
      "cell_type": "markdown",
      "metadata": {
        "id": "view-in-github",
        "colab_type": "text"
      },
      "source": [
        "<a href=\"https://colab.research.google.com/github/natnew/Mini-Python-Projects/blob/main/Python_Lambda.ipynb\" target=\"_parent\"><img src=\"https://colab.research.google.com/assets/colab-badge.svg\" alt=\"Open In Colab\"/></a>"
      ]
    },
    {
      "cell_type": "markdown",
      "source": [
        "# Iterating With Python Lambda"
      ],
      "metadata": {
        "id": "rz71wJs_pW7j"
      }
    },
    {
      "cell_type": "code",
      "execution_count": 1,
      "metadata": {
        "colab": {
          "base_uri": "https://localhost:8080/"
        },
        "id": "Kqo1UXIXpEQA",
        "outputId": "41e8e17c-3489-42b0-8e5d-c6b82468bc3b"
      },
      "outputs": [
        {
          "output_type": "stream",
          "name": "stdout",
          "text": [
            "[16, 4, 169, 441, 25]\n"
          ]
        }
      ],
      "source": [
        "# Iterating With Python Lambdas\n",
        "  \n",
        "# list of numbers\n",
        "l1 = [4, 2, 13, 21, 5]\n",
        "  \n",
        "l2 = []\n",
        "  \n",
        "# run for loop to iterate over list\n",
        "for i in l1:\n",
        "      \n",
        "    # lambda function to make square \n",
        "    # of number\n",
        "    temp=lambda i:i**2\n",
        "  \n",
        "    # save in list2\n",
        "    l2.append(temp(i))\n",
        "  \n",
        "# print list\n",
        "print(l2)"
      ]
    },
    {
      "cell_type": "code",
      "source": [
        "# Iterating With Python Lambdas\n",
        "  \n",
        "# list of numbers\n",
        "l1 = [4, 2, 13, 21, 5]\n",
        "  \n",
        "# list of square of numbers\n",
        "# lambda function is used to iterate \n",
        "# over list l1\n",
        "l2 = list(map(lambda v: v ** 2, l1))\n",
        "  \n",
        "# print list\n",
        "print(l2)"
      ],
      "metadata": {
        "colab": {
          "base_uri": "https://localhost:8080/"
        },
        "id": "wVzFJ-96pcPP",
        "outputId": "2ab1376b-7362-49b5-81e2-e47549315c42"
      },
      "execution_count": 2,
      "outputs": [
        {
          "output_type": "stream",
          "name": "stdout",
          "text": [
            "[16, 4, 169, 441, 25]\n"
          ]
        }
      ]
    },
    {
      "cell_type": "code",
      "source": [
        "# Iterating With Python Lambdas\n",
        "  \n",
        "# list of numbers\n",
        "l1 = [4, 2, 13, 21, 5]\n",
        "  \n",
        "# list of square of odd numbers\n",
        "# lambda function is used to iterate over list l1\n",
        "# filter is used to find odd numbers\n",
        "l2 = list(map(lambda v: v ** 2, filter(lambda u: u % 2, l1)))\n",
        "  \n",
        "# print list\n",
        "print(l2)"
      ],
      "metadata": {
        "colab": {
          "base_uri": "https://localhost:8080/"
        },
        "id": "I1iRZ15wpgkL",
        "outputId": "29421e61-4968-487d-9131-7eb6e46fb35f"
      },
      "execution_count": 3,
      "outputs": [
        {
          "output_type": "stream",
          "name": "stdout",
          "text": [
            "[169, 441, 25]\n"
          ]
        }
      ]
    },
    {
      "cell_type": "markdown",
      "source": [
        "# Lambda function to find the smaller value between two elements"
      ],
      "metadata": {
        "id": "tisJN3RAp2Zf"
      }
    },
    {
      "cell_type": "code",
      "source": [
        "# lambda function to return minimum of\n",
        "# two elements a, b are the arguments and\n",
        "# min() method is the expression here.\n",
        "get_min = lambda a, b : min(a,b)\n",
        "  \n",
        "print(get_min(5, 8))"
      ],
      "metadata": {
        "colab": {
          "base_uri": "https://localhost:8080/"
        },
        "id": "j-mC2jk2p3ab",
        "outputId": "d809af22-5d16-4e9a-c181-dbd76cb1fdad"
      },
      "execution_count": 4,
      "outputs": [
        {
          "output_type": "stream",
          "name": "stdout",
          "text": [
            "5\n"
          ]
        }
      ]
    },
    {
      "cell_type": "code",
      "source": [
        "# lambda function to return minimum of two elements\n",
        "# a, b are the arguments and ternary\n",
        "# operator is used to compare two elements\n",
        "get_min = lambda a, b : a if a < b else b\n",
        "  \n",
        "print(get_min(5, 8))"
      ],
      "metadata": {
        "colab": {
          "base_uri": "https://localhost:8080/"
        },
        "id": "L_exdn3Xp_LA",
        "outputId": "900427b4-ef24-4efa-8857-e003baf4e052"
      },
      "execution_count": 5,
      "outputs": [
        {
          "output_type": "stream",
          "name": "stdout",
          "text": [
            "5\n"
          ]
        }
      ]
    },
    {
      "cell_type": "code",
      "source": [
        "# Two lambda functions will be stored\n",
        "# in tuple such that 1st element is b\n",
        "# and 2nd element will be b.\n",
        "# if [a<b] is true it return 1 and\n",
        "# element with index 1 will print\n",
        "# else if [a<b] is false it return 0,\n",
        "# so element with index 0 will print\n",
        "a = 5\n",
        "b = 8\n",
        "print((lambda: b, lambda: a)[a < b]())"
      ],
      "metadata": {
        "colab": {
          "base_uri": "https://localhost:8080/"
        },
        "id": "NdCTlxMXqEJW",
        "outputId": "bef9e1a3-5563-440d-a410-e3aabb45d127"
      },
      "execution_count": 6,
      "outputs": [
        {
          "output_type": "stream",
          "name": "stdout",
          "text": [
            "5\n"
          ]
        }
      ]
    },
    {
      "cell_type": "markdown",
      "source": [
        "# Find fibonacci series upto n using lambda"
      ],
      "metadata": {
        "id": "q6AwRuTvqR0D"
      }
    },
    {
      "cell_type": "code",
      "source": [
        "from functools import reduce\n",
        "  \n",
        "fib = lambda n: reduce(lambda x, _: x+[x[-1]+x[-2]],\n",
        "                                 range(n-2), [0, 1])\n",
        "  \n",
        "print(fib(5))"
      ],
      "metadata": {
        "colab": {
          "base_uri": "https://localhost:8080/"
        },
        "id": "c5FQSrhWqS0a",
        "outputId": "4f3780fe-4f36-4961-b4ad-abc98ecd9b96"
      },
      "execution_count": 7,
      "outputs": [
        {
          "output_type": "stream",
          "name": "stdout",
          "text": [
            "[0, 1, 1, 2, 3]\n"
          ]
        }
      ]
    },
    {
      "cell_type": "code",
      "source": [
        "def fibonacci(count):\n",
        "    fib_list = [0, 1]\n",
        "  \n",
        "    any(map(lambda _: fib_list.append(sum(fib_list[-2:])),\n",
        "                                         range(2, count)))\n",
        "  \n",
        "    return fib_list[:count]\n",
        "  \n",
        "print(fibonacci(10))"
      ],
      "metadata": {
        "colab": {
          "base_uri": "https://localhost:8080/"
        },
        "id": "bKuCsEIq2Az0",
        "outputId": "9273124f-4008-4504-df6d-04072eed37d6"
      },
      "execution_count": 8,
      "outputs": [
        {
          "output_type": "stream",
          "name": "stdout",
          "text": [
            "[0, 1, 1, 2, 3, 5, 8, 13, 21, 34]\n"
          ]
        }
      ]
    },
    {
      "cell_type": "markdown",
      "source": [
        "# Count Even and Odd numbers in a List"
      ],
      "metadata": {
        "id": "4VtWJyUv2H-7"
      }
    },
    {
      "cell_type": "code",
      "source": [
        "# Python program to count Even\n",
        "# and Odd numbers in a List\n",
        "  \n",
        "# list of numbers\n",
        "list1 = [10, 21, 4, 45, 66, 93, 1]\n",
        "  \n",
        "even_count, odd_count = 0, 0\n",
        "  \n",
        "# iterating each number in list\n",
        "for num in list1:\n",
        "      \n",
        "    # checking condition\n",
        "    if num % 2 == 0:\n",
        "        even_count += 1\n",
        "  \n",
        "    else:\n",
        "        odd_count += 1\n",
        "          \n",
        "print(\"Even numbers in the list: \", even_count)\n",
        "print(\"Odd numbers in the list: \", odd_count)"
      ],
      "metadata": {
        "colab": {
          "base_uri": "https://localhost:8080/"
        },
        "id": "ca9lZ0662QKD",
        "outputId": "cfa6ca9e-8c22-4c11-a812-f285b326157b"
      },
      "execution_count": 9,
      "outputs": [
        {
          "output_type": "stream",
          "name": "stdout",
          "text": [
            "Even numbers in the list:  3\n",
            "Odd numbers in the list:  4\n"
          ]
        }
      ]
    },
    {
      "cell_type": "code",
      "source": [
        "# Python program to count Even and Odd numbers in a List\n",
        "  \n",
        "# list of numbers\n",
        "list1 = [10, 21, 4, 45, 66, 93, 11]\n",
        "  \n",
        "even_count, odd_count = 0, 0\n",
        "num = 0\n",
        "  \n",
        "# using while loop     \n",
        "while(num < len(list1)):\n",
        "      \n",
        "    # checking condition\n",
        "    if list1[num] % 2 == 0:\n",
        "        even_count += 1\n",
        "    else:\n",
        "        odd_count += 1\n",
        "      \n",
        "    # increment num \n",
        "    num += 1\n",
        "      \n",
        "print(\"Even numbers in the list: \", even_count)\n",
        "print(\"Odd numbers in the list: \", odd_count)"
      ],
      "metadata": {
        "colab": {
          "base_uri": "https://localhost:8080/"
        },
        "id": "j_J0X-3w2ktd",
        "outputId": "20457831-510d-4b0e-cb50-b8d7bf290402"
      },
      "execution_count": 10,
      "outputs": [
        {
          "output_type": "stream",
          "name": "stdout",
          "text": [
            "Even numbers in the list:  3\n",
            "Odd numbers in the list:  4\n"
          ]
        }
      ]
    },
    {
      "cell_type": "code",
      "source": [
        "# list of numbers\n",
        "list1 = [10, 21, 4, 45, 66, 93, 11]\n",
        "  \n",
        "odd_count = len(list(filter(lambda x: (x%2 != 0) , list1)))\n",
        "  \n",
        "# we can also do len(list1) - odd_count\n",
        "even_count = len(list(filter(lambda x: (x%2 == 0) , list1)))\n",
        "  \n",
        "print(\"Even numbers in the list: \", even_count)\n",
        "print(\"Odd numbers in the list: \", odd_count)"
      ],
      "metadata": {
        "colab": {
          "base_uri": "https://localhost:8080/"
        },
        "id": "0Vnw5pS52oNp",
        "outputId": "0883fa16-7ac5-41dd-874d-0e495abfc799"
      },
      "execution_count": 11,
      "outputs": [
        {
          "output_type": "stream",
          "name": "stdout",
          "text": [
            "Even numbers in the list:  3\n",
            "Odd numbers in the list:  4\n"
          ]
        }
      ]
    },
    {
      "cell_type": "markdown",
      "source": [
        "# Difference between List comprehension and Lambda"
      ],
      "metadata": {
        "id": "AmzjuNrY22U5"
      }
    },
    {
      "cell_type": "code",
      "source": [
        "lst  =  [x ** 2  for x in range (1, 11)   if  x % 2 == 1]\n",
        "print(lst)"
      ],
      "metadata": {
        "colab": {
          "base_uri": "https://localhost:8080/"
        },
        "id": "IFKpUyW_23TC",
        "outputId": "d7e933d1-21b5-4326-df86-8794f52249e4"
      },
      "execution_count": 12,
      "outputs": [
        {
          "output_type": "stream",
          "name": "stdout",
          "text": [
            "[1, 9, 25, 49, 81]\n"
          ]
        }
      ]
    },
    {
      "cell_type": "code",
      "source": [
        "lst = list(map(lambda x: x**2, range(1, 5)))\n",
        "print(lst)"
      ],
      "metadata": {
        "colab": {
          "base_uri": "https://localhost:8080/"
        },
        "id": "TaHtzQaj29ef",
        "outputId": "23fbd782-a840-4685-ce3c-4a8dfbdb97fc"
      },
      "execution_count": 13,
      "outputs": [
        {
          "output_type": "stream",
          "name": "stdout",
          "text": [
            "[1, 4, 9, 16]\n"
          ]
        }
      ]
    }
  ]
}