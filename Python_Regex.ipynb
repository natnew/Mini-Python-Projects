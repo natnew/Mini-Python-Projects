{
  "nbformat": 4,
  "nbformat_minor": 0,
  "metadata": {
    "colab": {
      "name": "Python Regex.ipynb",
      "provenance": [],
      "authorship_tag": "ABX9TyOvJQfFFitMfwCGu39xzOpo",
      "include_colab_link": true
    },
    "kernelspec": {
      "name": "python3",
      "display_name": "Python 3"
    },
    "language_info": {
      "name": "python"
    }
  },
  "cells": [
    {
      "cell_type": "markdown",
      "metadata": {
        "id": "view-in-github",
        "colab_type": "text"
      },
      "source": [
        "<a href=\"https://colab.research.google.com/github/natnew/Mini-Python-Projects/blob/main/Python_Regex.ipynb\" target=\"_parent\"><img src=\"https://colab.research.google.com/assets/colab-badge.svg\" alt=\"Open In Colab\"/></a>"
      ]
    },
    {
      "cell_type": "markdown",
      "source": [
        "# Converting a 10 digit phone number to US format using Regex"
      ],
      "metadata": {
        "id": "qcmgSBIb6_TX"
      }
    },
    {
      "cell_type": "code",
      "execution_count": 1,
      "metadata": {
        "colab": {
          "base_uri": "https://localhost:8080/"
        },
        "id": "G95KLA226Fnd",
        "outputId": "bfeb06c0-0a2d-44b8-d712-1e5ca46ba608"
      },
      "outputs": [
        {
          "output_type": "stream",
          "name": "stdout",
          "text": [
            "Call geek (321) 963-0612\n"
          ]
        }
      ],
      "source": [
        "import re \n",
        "  \n",
        "def convert_phone_number(phone):\n",
        "  \n",
        "  # actual pattern which only change this line\n",
        "  num = re.sub(r'(?<!\\S)(\\d{3})-', r'(\\1) ', phone) \n",
        "  return num\n",
        "  \n",
        "# Driver code \n",
        "print(convert_phone_number(\"Call geek 321-963-0612\"))"
      ]
    },
    {
      "cell_type": "markdown",
      "source": [
        "# Find Indices of Overlapping Substrings"
      ],
      "metadata": {
        "id": "S77rNAHQ7JLf"
      }
    },
    {
      "cell_type": "code",
      "source": [
        "# Import required module\n",
        "import re\n",
        "  \n",
        "  \n",
        "# Function to depict use of finditer() method\n",
        "def CntSubstr(pattern, string):\n",
        "  \n",
        "    # Array storing the indices\n",
        "    a = [m.start() for m in re.finditer(pattern, string)]\n",
        "    return a\n",
        "  \n",
        "  \n",
        "# Driver Code\n",
        "string = 'geeksforgeeksforgeeks'\n",
        "pattern = 'geeksforgeeks'\n",
        "  \n",
        "# Printing index values of non-overlapping pattern\n",
        "print(CntSubstr(pattern, string))"
      ],
      "metadata": {
        "colab": {
          "base_uri": "https://localhost:8080/"
        },
        "id": "pPIhCIkF7K_4",
        "outputId": "97d20135-fda6-4aba-f1dd-8bf8a14055d2"
      },
      "execution_count": 2,
      "outputs": [
        {
          "output_type": "stream",
          "name": "stdout",
          "text": [
            "[0]\n"
          ]
        }
      ]
    },
    {
      "cell_type": "markdown",
      "source": [
        "# Extract Strings between HTML Tags"
      ],
      "metadata": {
        "id": "EsV0Rx4E7h8G"
      }
    },
    {
      "cell_type": "code",
      "source": [
        "# importing re module\n",
        "import re\n",
        "  \n",
        "# initializing string\n",
        "test_str = '<b>Gfg</b> is <b>Best</b>. I love <b>Reading CS</b> from it.'\n",
        "  \n",
        "# printing original string\n",
        "print(\"The original string is : \" + str(test_str))\n",
        "  \n",
        "# initializing tag\n",
        "tag = \"b\"\n",
        "  \n",
        "# regex to extract required strings\n",
        "reg_str = \"<\" + tag + \">(.*?)</\" + tag + \">\"\n",
        "res = re.findall(reg_str, test_str)\n",
        "  \n",
        "# printing result\n",
        "print(\"The Strings extracted : \" + str(res))"
      ],
      "metadata": {
        "colab": {
          "base_uri": "https://localhost:8080/"
        },
        "id": "DuR0OwAa7j7g",
        "outputId": "63052e0b-5d11-4f99-b0fb-de9c2b0eada3"
      },
      "execution_count": 3,
      "outputs": [
        {
          "output_type": "stream",
          "name": "stdout",
          "text": [
            "The original string is : <b>Gfg</b> is <b>Best</b>. I love <b>Reading CS</b> from it.\n",
            "The Strings extracted : ['Gfg', 'Best', 'Reading CS']\n"
          ]
        }
      ]
    }
  ]
}